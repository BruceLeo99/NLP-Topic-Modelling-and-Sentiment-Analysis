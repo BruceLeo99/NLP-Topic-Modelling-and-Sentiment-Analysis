{
 "cells": [
  {
   "cell_type": "markdown",
   "metadata": {},
   "source": [
    "### 0. Introduction\n",
    "---\n",
    "Models: BERT, roBERTa\n",
    "\n",
    "##### How data is processed?\n",
    "\n",
    "In topic modelling we retrieved reviews on movies, restaurants and books from 3 separated datasets. We manually retrieved the text content and gave them numerical labels accordingly (0-movie, 1-restaurant, 2-book, because the models do not accept labels in string), transformed them into pandas Dataframe (the datatype that the models can work with), merged them into corpus and removed duplicated contents and shuffled.\n",
    "\n",
    "Then, the corpus is splitted into train, validation and test dataset, in the proportion takes 60%, 20% and 20% of the corpus. Before training begins, the data was checked to make sure that all three of the datasets are using different data with no overlapping data to avoid overfitting (a phenomenon that the ML model \"memorizes\" the answer and lose the ability of classifying unseen inputs).\n",
    "\n",
    "##### How training is proceeded?\n",
    "\n",
    "Both BERT and rBERTa models apply the same fine-tune parameters. The parameters are adjusted accordingly to reach the maximum performance. Both models train on the training dataset and validated with the validation dataset, which takes approximately 5 minutes for each of them in total. In the end, an evaluation of performance is executed on both models with the test dataset.\n",
    "\n",
    "\n",
    "\n",
    "Two models were adjusted twice. In the first version, the result was remarkably good, this raises the suspesion of overfitting issue. To confirm that two models are not overfitted, the following were adjusted:\n",
    "\n",
    "*   Make data cleaner by removing duplications in corpus\n",
    "*   Train models without cross-validation and testing on the pre-trained model by setting epocs to zero\n",
    "\n",
    "After the cleaning of data and a comparison of the evaluation with and without epocs, it was discovered that both of the models perform remarkably well with a weighted average f1 score of 99%, however, when training without epocs, the performance drops drastically. Additionally, the algorithm contains a pre-stop function that when overfitting starts to occur, the training on epochs will terminate, and in this case, the algorithm indeed terminated before running all epochs. This is a strong proof that the models are not overfitted.\n",
    "\n",
    "##### Result:\n",
    "\n",
    "Surprisingly, after excluding the possibility of overfitting, both BERT and rBERTa model performed extremly well and both returned high precisions and high recalls on determining all three different topics. This indicates that both BERT and rBERTa are powerful and sufficient on modelling topics - both models can identify the topics preciseely and classify them correctly, with a very small possibility of mismacthing. In conclusion, both models are capable for most of the topic modelling tasks."
   ]
  },
  {
   "cell_type": "markdown",
   "metadata": {},
   "source": [
    "##### Additional note:\n",
    "1. Due to the hardward limitation, only 2000 datapoints were used from each dataset (1000 from Restaurant Dataset).\n",
    "2. This project was completed in 2023. All results were acquired after the first execution. <br>\n",
    "Unexpected *ValueError* occurred when executing the second time. Will be fixed later."
   ]
  },
  {
   "cell_type": "markdown",
   "metadata": {
    "id": "wOyG7vdyqljj"
   },
   "source": [
    "### 1. Data preprocessing:"
   ]
  },
  {
   "cell_type": "markdown",
   "metadata": {
    "id": "fuRTiVwZKIT6"
   },
   "source": [
    "Original source of datasets:\n",
    "\n",
    "\n",
    "*   Movie dataset: IMDB Dataset of 50K Movie Reviews, https://www.kaggle.com/datasets/lakshmi25npathi/imdb-dataset-of-50k-movie-reviews?resource=download\n",
    "\n",
    "*   Restaurant dataset: Restaurant Customer Review:\n",
    "https://www.kaggle.com/datasets/vigneshwarsofficial/reviews\n",
    "\n",
    "\n",
    "*   \n",
    "Book dataset:\n",
    "Amazon Book Review:\n",
    "https://www.kaggle.com/datasets/shrutimehta/amazon-book-reviews-webscraped?resource=download\n",
    "\n",
    "\n",
    "> Model takes long time to run! For a faster execution, please consider using Google Colab with extra RAM space.\n",
    "\n",
    "\n"
   ]
  },
  {
   "cell_type": "code",
   "execution_count": 1,
   "metadata": {
    "executionInfo": {
     "elapsed": 577,
     "status": "ok",
     "timestamp": 1712853681569,
     "user": {
      "displayName": "Yixing Wang",
      "userId": "04925506261831736908"
     },
     "user_tz": -120
    },
    "id": "HeqybozOUrOq"
   },
   "outputs": [],
   "source": [
    "import pandas as pd\n",
    "import csv\n",
    "import random"
   ]
  },
  {
   "cell_type": "code",
   "execution_count": 2,
   "metadata": {
    "executionInfo": {
     "elapsed": 1508,
     "status": "ok",
     "timestamp": 1712853685516,
     "user": {
      "displayName": "Yixing Wang",
      "userId": "04925506261831736908"
     },
     "user_tz": -120
    },
    "id": "ESL9hGUwYJV1"
   },
   "outputs": [],
   "source": [
    "# Retrieve the text contents from the datasets\n",
    "movie_reviews = []\n",
    "restaurant_reviews = []\n",
    "book_reviews = []\n",
    "\n",
    "with open('Data/IMDB Dataset.csv', newline='', encoding='iso-8859-1') as csvfile:\n",
    "    reader = csv.reader(csvfile, delimiter=',', quotechar='\"')\n",
    "    for row in list(reader)[1:2001]:\n",
    "      movie_reviews.append(row[0])\n",
    "\n",
    "with open('Data/Restaurant_Reviews.tsv', newline='',encoding='iso-8859-1') as csvfile:\n",
    "    reader = csv.reader(csvfile, delimiter=',', quotechar='\"')\n",
    "    for row in list(reader)[1:2001]:\n",
    "      restaurant_reviews.append(row[0])\n",
    "\n",
    "with open('Data/Amazon book reviews.csv', newline='', encoding='iso-8859-1') as csvfile:\n",
    "    reader = csv.reader(csvfile, delimiter=',', quotechar='\"')\n",
    "    for row in list(reader)[1:2001]:\n",
    "      book_reviews.append(row[0])"
   ]
  },
  {
   "cell_type": "code",
   "execution_count": 3,
   "metadata": {
    "executionInfo": {
     "elapsed": 20,
     "status": "ok",
     "timestamp": 1712853685516,
     "user": {
      "displayName": "Yixing Wang",
      "userId": "04925506261831736908"
     },
     "user_tz": -120
    },
    "id": "dApSYXDsW8qK"
   },
   "outputs": [],
   "source": [
    "# Manually transform the string label to integer label the data and transform the data with their labels into dictionaries\n",
    "# 0 - movie\n",
    "# 1 - restaurant\n",
    "# 2 - book\n",
    "\n",
    "def remove_duplicate(datalist):\n",
    "    \"\"\"\n",
    "    Removes duplicated reviews from a datalist.\n",
    "    :param datalist (list): A list containing reviews in text\n",
    "\n",
    "\n",
    "    :returns list: A new list with duplicate elements removed.\n",
    "    \"\"\"\n",
    "  return list(set(datalist))\n",
    "\n",
    "\n",
    "def labeller(datalist, label):\n",
    "    \"\"\"\n",
    "    Manually assigns each review in the datalist to a corresponding string label\n",
    "    :param list datalist: A list containing reviews in text.\n",
    "    :param str label: The string label to be assigned to each element.\n",
    "\n",
    "    :returns list(list) result: A list of lists, each containing two strings: the original review in text and its label\n",
    "\n",
    "    Example:\n",
    "        >>> labeled([\"This movie is awesome!\", \"This movie is lame!\",...], \"movie\")\n",
    "        [[\"This movie is awesome!\",\"movie\"], [\"This movie is lame!\", \"movie\"],...]]\n",
    "    \"\"\"\n",
    "\n",
    "  result = []\n",
    "\n",
    "  for review in datalist:\n",
    "    result.append([review, string_label_to_numeric(label)])\n",
    "\n",
    "  print(\"Labelling complete!\")\n",
    "\n",
    "  return result\n",
    "\n",
    "\n",
    "def string_label_to_numeric(label):\n",
    "    \"\"\"\n",
    "    Converts a string label to its corresponding numerical label:\n",
    "    'movie'-> 0\n",
    "    'restaurant'-> 1\n",
    "    'book'-> 2\n",
    "\n",
    "    :param str label: A string label (\"movie\", \"restaurant\", or \"book\"):\n",
    "\n",
    "    :returns int: The numeric representation of the label (0 for \"movie\", 1 for \"restaurant\", 2 for \"book\").\n",
    "\n",
    "    Example:\n",
    "        >>> string_label_to_numeric(\"movie\")\n",
    "        0\n",
    "    \"\"\"\n",
    "\n",
    "  if label == \"movie\":\n",
    "    return 0\n",
    "  elif label == \"restaurant\":\n",
    "    return 1\n",
    "  elif label == \"book\":\n",
    "    return 2\n",
    "  else:\n",
    "    pass\n",
    "\n",
    "  return \"Invalid label.\"\n",
    "\n",
    "\n",
    "def list_to_dict(datalist):\n",
    "    \"\"\"\n",
    "    Converts a list of lists (labelled) into a list of dictionaries.\n",
    "\n",
    "    :param list(list) datalist: A list of lists (labelled), where each inner list contains two elements (review text and label).\n",
    "\n",
    "    :returns list(dict()) result: A list of dictionaries, where each dictionary contains \"text\" and \"label\" as keys.\n",
    "\n",
    "    Example:\n",
    "        >>> list_to_dict([['review1', \"movie\"], ['review2', \"book\"]])\n",
    "        [{'text': 'review1', 'label': \"movie\"}, {'text': 'review2', 'label': \"book\"}]\n",
    "    \"\"\" \n",
    "  result = []\n",
    "  for review in datalist:\n",
    "    temp_dict = {\"text\":review[0], \"label\":review[1]}\n",
    "    result.append(temp_dict)\n",
    "\n",
    "  return result"
   ]
  },
  {
   "cell_type": "code",
   "execution_count": 4,
   "metadata": {
    "executionInfo": {
     "elapsed": 19,
     "status": "ok",
     "timestamp": 1712853685516,
     "user": {
      "displayName": "Yixing Wang",
      "userId": "04925506261831736908"
     },
     "user_tz": -120
    },
    "id": "8Lwyxj2waWcm"
   },
   "outputs": [],
   "source": [
    "def data_preview(show_example = False, train_test_splitted = False):\n",
    "    \"\"\"\n",
    "    Print the summary of the dataset including the number of reviews for each category.\n",
    "    \n",
    "    :param show_example (bool, optional): Whether to print examples of reviews. Defaults to False.\n",
    "    :param train_test_splitted (bool, optional): Whether the dataset is splitted into train, validation, and test sets.\n",
    "            If True, also prints the lengths of train, validation, and test sets. Defaults to False.\n",
    "    \"\"\"    \n",
    "  print(f\"Number of book reviews: {len(book_reviews)}\")\n",
    "  print(f\"Number of restaurant reviews: {len(restaurant_reviews)}\")\n",
    "  print(f\"Number of movie reviews:{len(movie_reviews)}\")\n",
    "\n",
    "  if train_test_splitted:\n",
    "    print(f\"Total length of dataset: {len(df)}\")\n",
    "    print(f\"Number of training data: {len(train)}\")\n",
    "    print(f\"Number of validation data: {len(validation)}\")\n",
    "    print(f\"Number of test data: {len(test)}\")\n",
    "\n",
    "  if show_example:\n",
    "    for i in range(10):\n",
    "      print(f\" review {i}: \\n movie: {movie_reviews[i]} \\n restaurant: {restaurant_reviews[i]} \\n book: \\n{ book_reviews[i]} \\n\")"
   ]
  },
  {
   "cell_type": "markdown",
   "metadata": {},
   "source": [
    "###### Preview the data"
   ]
  },
  {
   "cell_type": "code",
   "execution_count": 5,
   "metadata": {
    "colab": {
     "base_uri": "https://localhost:8080/"
    },
    "executionInfo": {
     "elapsed": 19,
     "status": "ok",
     "timestamp": 1712853685517,
     "user": {
      "displayName": "Yixing Wang",
      "userId": "04925506261831736908"
     },
     "user_tz": -120
    },
    "id": "6XZlh3P3kqCL",
    "outputId": "fde95f80-3b7f-4c41-a913-bdb7392efa99"
   },
   "outputs": [
    {
     "name": "stdout",
     "output_type": "stream",
     "text": [
      "Number of data in each category before eliminating duplication: \n",
      "Number of book reviews: 2000\n",
      "Number of restaurant reviews: 992\n",
      "Number of movie reviews:2000\n",
      "Number of data in each category after eliminating duplication: \n",
      "Number of book reviews: 1775\n",
      "Number of restaurant reviews: 977\n",
      "Number of movie reviews:2000\n",
      " review 0: \n",
      " movie: I very much looked forward to this movie. Its a good family movie; however, if Michael Landon Jr.'s editing team did a better job of editing, the movie would be much better. Too many scenes out of context. I do hope there is another movie from the series, they're all very good. But, if another one is made, I beg them to take better care at editing. This story was all over the place and didn't seem to have a center. Which is unfortunate because the other movies of the series were great. I enjoy the story of Willie and Missy; they're both great role models. Plus, the romantic side of the viewers always enjoy a good love story. \n",
      " restaurant: Our server was very nice \n",
      " book: \n",
      "Intriguing \n",
      "\n",
      " review 1: \n",
      " movie: One hour, eight minutes and twelve seconds into this flick and I decided it was pretty lame. That was right after Hopalong (Chris Lybbert) drops on his horse from a tree to rejoin the good guy posse. I was pretty mystified by the whole Hopalong Cassidy/Great Bar 20 gimmick which didn't translate into anything at all. Obviously, the name Coppola in the credits couldn't do anything to guarantee success here, even with more than one listed.<br /><br />If you make it to the end of the film, you'll probably wind up asking yourself the same questions I did. What exactly was the hook with the gloves? What's up with the rodeo scenario? Who was The Stranger supposed to represent? Why did they make this film? <br /><br />I could probably go on but my energy's been drained. Look, there's already a Western called \"The Gunfighter\" from 1950 with a guy named Gregory Peck as the title character. Watching it will make you feel as good as watching this one makes you feel bad. That one I can recommend. \n",
      " restaurant: Their menu is diverse \n",
      " book: \n",
      "Some friends did not recommend this book, others did, so I took a chance and I absolutely loved the book.  The short chapters work for me, and I enjoyed the development of the characters, each chapter told you which character was telling the story.  This is how it works in real life, everyone sees things a bit different.\"The Girl on the Train\" seems a bit damaged, but not in the way that is obvious.  She continues to pretend to go to work everyday long after she has lost her job, which was on top of loosing her marriage and a place to live.  All her comfort comes from a bottle, and as it is reality, that person must hit bottom to find their way back.  Bottom actually hits her, literally.  This is the spin that draws you in.  She believes she is a black out drunk, and the tales she is told of what happens when she can not remember.It is a short jump from bad to worse, when our girl on the train begins living vicariously through the couple she passes daily on the way to 'work'.  She envisions a 'Ken and Barbie' couple from the short bursts of their lives she see as the train passes their home, and one day it seems there is trouble in paradise.  The next day the newspaper shows 'Barbie' being missing, and eventually found dead.A mixture of \"Rear View Window\" and \"Gone Girl\", this is a page turner.  Down to the last page I had goosebumps.  Excellent suspense! \n",
      "\n",
      " review 2: \n",
      " movie: One of the other reviewers has mentioned that after watching just 1 Oz episode you'll be hooked. They are right, as this is exactly what happened with me.<br /><br />The first thing that struck me about Oz was its brutality and unflinching scenes of violence, which set in right from the word GO. Trust me, this is not a show for the faint hearted or timid. This show pulls no punches with regards to drugs, sex or violence. Its is hardcore, in the classic use of the word.<br /><br />It is called OZ as that is the nickname given to the Oswald Maximum Security State Penitentary. It focuses mainly on Emerald City, an experimental section of the prison where all the cells have glass fronts and face inwards, so privacy is not high on the agenda. Em City is home to many..Aryans, Muslims, gangstas, Latinos, Christians, Italians, Irish and more....so scuffles, death stares, dodgy dealings and shady agreements are never far away.<br /><br />I would say the main appeal of the show is due to the fact that it goes where other shows wouldn't dare. Forget pretty pictures painted for mainstream audiences, forget charm, forget romance...OZ doesn't mess around. The first episode I ever saw struck me as so nasty it was surreal, I couldn't say I was ready for it, but as I watched more, I developed a taste for Oz, and got accustomed to the high levels of graphic violence. Not just violence, but injustice (crooked guards who'll be sold out for a nickel, inmates who'll kill on order and get away with it, well mannered, middle class inmates being turned into prison bitches due to their lack of street skills or prison experience) Watching Oz, you may become comfortable with what is uncomfortable viewing....thats if you can get in touch with your darker side. \n",
      " restaurant: We got the food and apparently they have never heard of salt and the batter on the fish was chewy.\t0 \n",
      " book: \n",
      "I had considered Gone Girl to be at the pinnacle of my favorite genre - the psychological thriller. The Girl on the Train sits beside Gillian Flynn's page-turner, in my opinion. I foolishly began reading Paula Hawkins' book before going to sleep and could not stop until I reached the last page. As was true with Gone Girl, The Girl on the Train must be read carefully, and the reader must pay close attention to details, including the dates embedded in each chapter.The story is told by three women. Rachel, whose life has pretty much bottomed out, rides a train to London every day to fool her flatmate into thinking she has a job. She entertains herself by looking into houses along the tracks and becomes almost obsessed with a couple she sees daily. In Rachel's mind, they are the golden couple and the object of her envy. She even gives them names.Anna, whose house is close to that of the golden couple, is the wife of Rachel's ex-husband, Tom. They have a young daughter, Evie. The affair, which ended Rachel's marriage, was devastating to her, but the most hurtful thing was Anna's pregnancy. Rachel had desperately wanted a child, but the only round of IVF that she and Tom could afford failed and the marriage with it.Megan, the golden wife, lives with her husband, Scott, in another house along the railroad tracks. Rachel is so enthralled by the couple that she fabricates stories about what she considers to be their perfect life. This all charges when she sees Megan kissing another man from the train window.Rachel's already turbulent life takes another nosedive when Megan goes missing. Determined to help the police find her, Rachel is brought into contact with her detractors, Anna, Tom and Scott. Because of her alcoholism, she is treated as a pariah by them and as an unreliable witness by the police. Even she distrusts her faulty memory.The story has countless twists and turns, which demand the reader's complete attention. The characters are beautifully developed as the complex people they are. Just when I thought I had a handle on them, I discovered a new nugget, which completely changed them. As is true in all well-written books of this genre, no one is what he or she seems on the surface. The writing flows effortlessly, gradually building to a climax.I highly recommend The Girl on the Train to fans of books like Gone Girl. Just don't make my mistake and start reading at 11:00 pm because you will most likely lose a night's sleep! \n",
      "\n",
      " review 3: \n",
      " movie: I got encouraged to watch this film because I've heard good word of it: it was supposed to be this thrilling true crime milestone, disturbing, shocking... all that jazz. Well, I am disturbed because I spent money on it, and I am shocked that something so God-awful actually got released. That's about it.<br /><br />This is a supposed \"new look\" at Charles Manson's family of insane loser junkies and their murders. But if this is a \"new look\" then it's probably \"new\" as in \"fresh and totally inept\": just watching it gave me a headache and I had to give up trying to make any sense of it or even understand just what the director intended it to be.<br /><br />I suppose I should say something about the plot but fact is, it was so stupid and incoherent that I barely remember if there even WAS a plot at all. There was something about a \"Manson tape\" delivered to a radio DJ (or a TV producer?), then an hour of pointless random footage of \"the family\" in '69, then the Polanski murders (looking like a bad school play) and finally some idiotic part about a bunch of skinheads getting drunk and beating the hell out of one another in an alley (I kid you not), and then it ended (thank God) (Don't ask me to make any sense of that, I'm just recalling what I saw!) The performances were terrible, too. And how difficult is it to make a convincing \"Manson\"? Get a short skinny scrawny bloke, put a dirty wig and a shaggy beard on him. There's your Manson. But this \"Manson\" doesn't even look right. He just looks like, uh, a bloke in a cheap wig and a glued on Santa beard painted black.<br /><br />Or maybe that's what this film is actually about: Manson's family didn't make any sense, so this film doesn't make any sense, either. It's symbolic! (Yeah, right) I'm still so angry at spending money on this I stopped my normal lurking on this site and registered just to vote 1 for this film and post this warning that will hopefully prevent others from spending their money on this garbage. Stay away from it, it's not even worth renting.<br /><br />PS. The recent US TV production \"Helter Skelter\" got bad reviews here but I saw it last month (I saw the 1976 original too) and let me tell you, compared to \"Manson Family\", that new Helter Skelter is BRILLIANT and FLAWLESS. And I was disappointed in it! That's how bad \"Manson Family\" is: it makes a flawed and mostly disappointing TV movie look perfect. \n",
      " restaurant: !....THE OWNERS REALLY REALLY need to quit being soooooo cheap let them wrap my freaking sandwich in two papers not one!\t0 \n",
      " book: \n",
      "I liked this book.  It was a fast read.  It kept you guessing who was the villain.  Interesting way of working the story from being a rider on the train. I saw the movie and thought the book was better. \n",
      "\n",
      " review 4: \n",
      " movie: Have previously enjoyed Wesley Snipes in several action flicks and I had expected a lot more, even from a score of 5.8 IMDb, the movie fails to entertain and even though the story is thin and unoriginal, the acting is most unfortunately thinner and goes to mimic a \"worst case scenario\" of playing \"strong\" feelings accompanied by some bad acting... Don't waist your time this movie Ã­snt entertaining, if you wanna cry it might suffice though, even though your tears will be wept due to seeing Wesley Snipes in the tragic action film wannabe comedy...<br /><br />I give this 2/10 it really was awful, if you wanna see a decent movie go see shooter or rent it, its all the good things this movie isn't. \n",
      " restaurant: My fiancÃ© and I came in the middle of the day and we were greeted and seated right away.\t1 \n",
      " book: \n",
      "From all that I'd heard and read about this book, it still wasn't quite what I expected. It moved slowly in the beginning and was kind of confusing. There were times when I went back and reread to keep the characters straight. It did pick up the pace in the middle and raced to the end, sort of like a train. I thought the characters could be developed more. You only know them superficially. When I finished the book, I still wanted to know more about them and their motives. Still it was a pretty good read and I was sort of surprised at the end. \n",
      "\n",
      " review 5: \n",
      " movie: C'mon guys some previous reviewers have nearly written a novel commenting on this episode. It's just an old 60's TV show ! This episode of Star Trek is notable because of the most serious babe (Yeoman Barrow's) ever used on Star Trek and the fact that it was filmed in a real outdoor location. Unlike the TNG and Voyager series which were totally confined to sound stages.<br /><br />This use of an outdoor location (and babe) gives proper depth and an almost film like quality to a quite ordinary episode of this now dated and very familiar show.<br /><br />Except a few notable exceptions i.e \"The city on the edge of forever\" , \"assignment Earth\" and \"Tomorrow is Yesterday\" The old series of Star Trek needs to be seriously moth-balled and put out of it's boring misery. Half a dozen good episodes from 79 is quite a poor batting average.<br /><br />This is typical of the boring stuff Gene Roddenberry produced back then actually, contrary to popular belief where some people worshiped the ground he walked on, he actually made a LOT of rubbish! He doesn't deserve to be spoken of in the same breath as Irwin Allen for example.<br /><br />Just look at the set of the bridge of the Enterprise from a modern point of view. They used wobbly plywood for the floor, cafeteria chairs with plastic backs and cheap cardboard above the instrument panels. You can clearly see the folds in the paper ! Every expense spared or what ! \n",
      " restaurant: Seafood was limited to boiled shrimp and crab legs but the crab legs definitely did not taste fresh.\t0 \n",
      " book: \n",
      "I just couldn't get into this book at all.  I've picked it up multiple times, and just couldn't do it.  Part of it is the pitiful state of the woman - you could see her total inability to cope right off the bat - but the author beat it to death setting you up to realize she was not going to end up being a credible person when it really mattered.  Frankly I gave up - possibly too early - I suppose eventually she figures out the whole thing and is able to convince the authorities that she really has a clue - BUT I just couldn't bring myself to get to that point.  Bravo for those who were able to finish this book and  thinks it's terrific - I'm not one of them. \n",
      "\n",
      " review 6: \n",
      " movie: A brilliant horror film. Utterly gruesome and very scary too. The Thing is a remake from John Carpenter, but please, do not let that put you off this film. It is simply brilliant. The start of the film has the alien's spacecraft hurtling towards the Earth centuries before mankind walked the planet with an explosion that unleashes the film's title in amazing shining white and blue stating 'THE THING'. One of the best opening credits for a horror film ever.<br /><br />The cast of actors who play the twelve man science team are a joy to behold and the locations for the setting of their Station in Antartica is visually impressive on DVD widescreen. It must have been great in the cinema. I regret not seeing this on the big screen.<br /><br />Kurt Russell is excellent as Macready, the helicopter pilot who reluctantly becomes the leader of the men trying to combat a lethal shape changing monstrosity that has infiltrated their base. All the actors in this are really good and create terrific scenes of paranoia and tension as to who the thing has infected. My favourite scene in the whole film has to be when Macready tests everyone thats still alive for infection, it is tense, scary and finally spectacular. I love it because its funny as well.<br /><br />Special mention must go to Rob Bottin for his truly amazing make up effects and shape changing designs of the alien itself. If he didn't get an Oscar for best visual effects at the time then he damn well should have. This is also debatable as to whether this is John Carpenter's greatest film...its certainly a gruesome masterpiece.<br /><br />Wait for a cold winter night. Get some Budweiser from the fridge. Sit down and watch The Thing, a horror masterpiece of flame throwing heroes fighting shape changing towers of gore and slime.<br /><br />Utterly brilliant.<br /><br />Ten Out Of Ten. \n",
      " restaurant: The servers are not pleasant to deal with and they don't always honor Pizza Hut coupons.\t0 \n",
      " book: \n",
      "I have never understood the fascination with books about mentally unstable protagonists. Personally Like with \"Gone Girl\" I find it very hard to either connect or sympathise with these unstable and very often unpleasant characters. The drunken heroine never really grows or develops beyond the initial introduction and she is just boring by the end of the novel. The fact that the second wife turns out to be as unstable as her does nothing to mitigate the boredom, in fact you just begin to wonder if there are any normal people in this fictional world or if everyone is determined to be dysfunctional. \n",
      "\n",
      " review 7: \n",
      " movie: A film like Crossfire puts another film that spreads around its social consciousness- i.e. the recent film Crash- almost to shame. Not necessarily because either one puts forth its message of intolerance-is-rotten more significantly (although I'd wager Crash throws the hammer down much more thickly in comparison with this), but because of how the storytelling and contrivances never get much in the way like with Crash. Maybe it's not really necessary to compare the two, as Crossfire is in its core all deep into the film-noir vein like its going out of style. It was interesting actually to see what the director Edward Dmytryk said on the DVD interview, where he mentioned that the budget for the photography was significantly lower (on purpose) so that more could be spent on the actors, and the schedule went through at a very brisk, quick pace. But then what comes off then as being incredible about the picture is that you would think looking at many of the lighting set-ups that it took a lot to do. Just for a small scene, like when Robert Mitchum's Keeely first goes in for questioning under the Captain Robert Young- the contrasts of shadows seamlessly in the room is exquisite. That there are many other lighting set-ups that go even further with so little marks this as something essential in the realm of just the look of the noir period. Just take a look at a shot of characters on a stairwell, the bars silhouetted against them, and see what I mean.<br /><br />But back to the substance part of the film- it's really a story that consists of a murder mystery, but one that we as the audience don't take long to figure on the answer. It's then more about something else then in the mind and soul of a killer that wouldn't be found in a common crime picture then, as there are really no 'criminals' for the most part in the film. There's a very calculated risk with this then that characters could be too thin just to prop up the (worthwhile) message against anti-semitism. But Dmytryk's direction of his top-shelf cast, along with a really terrific script by John Paxton fleshes out the characters, least of which for what they should have to not seem too thin alongside the message. And what would a noir be then without some attitude to go along with it? Mitchum helps that along, even in scenes like between him and Young where its very much based in the situation of the story's moment (i.e. a detail in the plot), by injecting a little sly wit into some of the dialog. It may already be there in the lines, but he helps make the character with a good edge for his scenes.<br /><br />Then there's also Robert Ryan, who excels at Montgomery as a man who you know you don't like much at first, just through his b.s. demeanor, but you're not totally sure about either. Then once it starts to come clearer- ironically through a subjective view-point of the suspect Mitchell (George Cooper) at the apartment of the soon-to-be-deceased Samuels- his performance becomes a great balancing act of being full of crap and also rather frightening in his blind-way. It's a good performance when also countered with Cooper, who has actual personal issues that he faces and comes forward with regret and humility. It's really after the film ends that one thinks about a lot of this, however, and while you're watching the film it's more about getting into the dialog and the flow of the scenes, and in the sometimes stark, overpowering camera moves on the actors, so the message is in a way secondary. Not that it isn't an important one, especially for the time period (coming right off of WW2), but years later its seeing the actors, even the ones that don't get the big marquee status like Gloria Grahame as Ginny (the femme fatale of the picture, if it could've had time for one which it doesn't) and William Phipps as Leroy (the \"hick\"), working off one another that sticks much strongly in the compacted screenplay.<br /><br />Dmytryk is also very wise in choosing to limit the musical score is powerful too, as for very long stretches we hear nothing, and mostly when it does come up it's incidental to the character's surroundings. He could've just as easily gone with added musical notes on some dramatic scenes for emphasis, most specifically the opening audience-grabber into the film. By sticking clear of that, and getting the right attitudes and nuance in camera and cast, it uplifts standards in genre material to a very fine, memorable level. My favorite scene would probably go to Finley's story about an Irish immigrant he tells to Leroy, where all such elements come into place well. It might not come in very high at the top of my favorite noirs- and I'd still throw-down Murder My Sweet as the director's masterpiece in this kind of picture- but it's assuredly higher in quality than something of the B-level too. \n",
      " restaurant: Bad day or not \n",
      " book: \n",
      "I'm about halfway through the book and I CAN'T PUT IT DOWN!! I just know something disastrous or crazy is about to happen. \n",
      "\n",
      " review 8: \n",
      " movie: This film takes you on one family's impossible journey, and makes you feel every step of their odyssey. Beautifully acted and photographed, heartbreakingly real. Its last line, with its wistful hope, is one of the more powerful in memory. \n",
      " restaurant: No complaints!\t1 \n",
      " book: \n",
      "Rachel Watson is the miserable poster woman for a Borderline Personality-disordered alcoholic who is depressed, anxious and has no redeemable qualities as a human being.  The premise itself is interesting; the point of view of the voyeuristic train passenger who imagines the lives of those living along the tracks of her daily commute.  Rachel finds herself in the middle of a mystery she feels compelled to participate in as a main character.  Just when you think her obnoxious and unreliable participation will actually contribute to something positive and meaningful - you are reminded that she is so shallow and self-serving that nothing good will come from her interference.  The other characters are equally as shallow and self-serving.  Although the book is very well-written and certainly interesting in it's telling, I couldn't help but be distracted by the fact that everyone was unlikable.  Ultimately, I was disappointed in the fact that Rachel never became a better person and we never learned the source of her sociopathic behavior. There was no one to root for  (not even the police) and in the end I am baffled as to why everyone was as deranged as they were. \n",
      "\n",
      " review 9: \n",
      " movie: This film's kind of like Conan the Barabarian, but with more sex, rape and murder. There is a plot somewhere underneath all this debauchery but the filmmakers don't do a good job showing it, which is a shame because it 'could' be a decent story. Richard Hill gives a solid performance in the lead role, as does the villain - who sadly didn't appear in anything else of note. The fight scenes aren't too bad either - I love the way Deathstalker lets his sword 'drink' the blood of his victims - and there's plenty of nudity and sex to temper the general level of machismo throughout. <br /><br />All in all, not good - but not necessarily that bad either... \n",
      " restaurant: The last 3 times I had lunch here has been bad.\t0 \n",
      " book: \n",
      "The tension & mystery builds as the story unfolds. Told through the eyes of 3 disparate women bound by a thin thread, each of them emerges as someone you could know & sympathize with. The 3 male characters offer an excellent foil. Page turner. \n",
      "\n"
     ]
    }
   ],
   "source": [
    "print(\"Number of data in each category before eliminating duplication: \")\n",
    "data_preview()\n",
    "movie_reviews = remove_duplicate(movie_reviews)\n",
    "restaurant_reviews = remove_duplicate(restaurant_reviews)\n",
    "book_reviews = remove_duplicate(book_reviews)\n",
    "print(\"Number of data in each category after eliminating duplication: \")\n",
    "data_preview(show_example=True)"
   ]
  },
  {
   "cell_type": "markdown",
   "metadata": {},
   "source": [
    "###### Assign labels and transform the data"
   ]
  },
  {
   "cell_type": "code",
   "execution_count": 6,
   "metadata": {
    "colab": {
     "base_uri": "https://localhost:8080/"
    },
    "executionInfo": {
     "elapsed": 16,
     "status": "ok",
     "timestamp": 1712853685517,
     "user": {
      "displayName": "Yixing Wang",
      "userId": "04925506261831736908"
     },
     "user_tz": -120
    },
    "id": "Mpbi_ii5Yubk",
    "outputId": "ec4199db-f53e-43c3-ce6f-12375ec206bb"
   },
   "outputs": [
    {
     "name": "stdout",
     "output_type": "stream",
     "text": [
      "Labelling complete!\n",
      "Labelling complete!\n",
      "Labelling complete!\n"
     ]
    }
   ],
   "source": [
    "movie_reviews = labeller(movie_reviews, \"movie\")\n",
    "restaurant_reviews = labeller(restaurant_reviews, \"restaurant\")\n",
    "book_reviews = labeller(book_reviews, \"book\")"
   ]
  },
  {
   "cell_type": "code",
   "execution_count": 7,
   "metadata": {
    "executionInfo": {
     "elapsed": 7,
     "status": "ok",
     "timestamp": 1712853685517,
     "user": {
      "displayName": "Yixing Wang",
      "userId": "04925506261831736908"
     },
     "user_tz": -120
    },
    "id": "FMCkiWoWZ1jn"
   },
   "outputs": [],
   "source": [
    "movie_reviews = list_to_dict(movie_reviews)\n",
    "restaurant_reviews = list_to_dict(restaurant_reviews)\n",
    "book_reviews = list_to_dict(book_reviews)"
   ]
  },
  {
   "cell_type": "markdown",
   "metadata": {},
   "source": [
    "Data shuffling and merging"
   ]
  },
  {
   "cell_type": "code",
   "execution_count": 8,
   "metadata": {
    "executionInfo": {
     "elapsed": 7,
     "status": "ok",
     "timestamp": 1712853685517,
     "user": {
      "displayName": "Yixing Wang",
      "userId": "04925506261831736908"
     },
     "user_tz": -120
    },
    "id": "V_YRjN9D2XGn"
   },
   "outputs": [],
   "source": [
    "# Merge the labeled data into a big list, namely corpus, and shuffle the data to make sure that\n",
    "# all types of data are randomly distributed.\n",
    "corpus = movie_reviews + restaurant_reviews + book_reviews\n",
    "random.shuffle(corpus)\n",
    "df = pd.DataFrame(corpus, columns=['text','label'])"
   ]
  },
  {
   "cell_type": "code",
   "execution_count": 9,
   "metadata": {
    "colab": {
     "base_uri": "https://localhost:8080/"
    },
    "executionInfo": {
     "elapsed": 5585,
     "status": "ok",
     "timestamp": 1712853691096,
     "user": {
      "displayName": "Yixing Wang",
      "userId": "04925506261831736908"
     },
     "user_tz": -120
    },
    "id": "-gBMhVJjYuRu",
    "outputId": "c2387c69-4714-4bb2-d7e2-e63b1d0b1ea0"
   },
   "outputs": [
    {
     "name": "stdout",
     "output_type": "stream",
     "text": [
      "Defaulting to user installation because normal site-packages is not writeable\n",
      "Requirement already satisfied: simpletransformers in c:\\users\\yixin\\appdata\\roaming\\python\\python310\\site-packages (0.70.0)\n",
      "Requirement already satisfied: numpy in c:\\users\\yixin\\appdata\\roaming\\python\\python310\\site-packages (from simpletransformers) (1.26.2)\n",
      "Requirement already satisfied: requests in c:\\users\\yixin\\appdata\\roaming\\python\\python310\\site-packages (from simpletransformers) (2.31.0)\n",
      "Requirement already satisfied: tqdm>=4.47.0 in c:\\users\\yixin\\appdata\\roaming\\python\\python310\\site-packages (from simpletransformers) (4.66.1)\n",
      "Requirement already satisfied: regex in c:\\users\\yixin\\appdata\\roaming\\python\\python310\\site-packages (from simpletransformers) (2023.10.3)\n",
      "Requirement already satisfied: transformers>=4.31.0 in c:\\users\\yixin\\appdata\\roaming\\python\\python310\\site-packages (from simpletransformers) (4.39.3)\n",
      "Requirement already satisfied: datasets in c:\\users\\yixin\\appdata\\roaming\\python\\python310\\site-packages (from simpletransformers) (2.18.0)\n",
      "Requirement already satisfied: scipy in c:\\users\\yixin\\appdata\\roaming\\python\\python310\\site-packages (from simpletransformers) (1.11.4)\n",
      "Requirement already satisfied: scikit-learn in c:\\users\\yixin\\appdata\\roaming\\python\\python310\\site-packages (from simpletransformers) (1.3.2)\n",
      "Requirement already satisfied: seqeval in c:\\users\\yixin\\appdata\\roaming\\python\\python310\\site-packages (from simpletransformers) (1.2.2)\n",
      "Requirement already satisfied: tensorboard in c:\\users\\yixin\\appdata\\roaming\\python\\python310\\site-packages (from simpletransformers) (2.15.1)\n",
      "Requirement already satisfied: tensorboardx in c:\\users\\yixin\\appdata\\roaming\\python\\python310\\site-packages (from simpletransformers) (2.6.2.2)\n",
      "Requirement already satisfied: pandas in c:\\users\\yixin\\appdata\\roaming\\python\\python310\\site-packages (from simpletransformers) (2.1.4)\n",
      "Requirement already satisfied: tokenizers in c:\\users\\yixin\\appdata\\roaming\\python\\python310\\site-packages (from simpletransformers) (0.15.2)\n",
      "Requirement already satisfied: wandb>=0.10.32 in c:\\users\\yixin\\appdata\\roaming\\python\\python310\\site-packages (from simpletransformers) (0.16.6)\n",
      "Requirement already satisfied: streamlit in c:\\users\\yixin\\appdata\\roaming\\python\\python310\\site-packages (from simpletransformers) (1.33.0)\n",
      "Requirement already satisfied: sentencepiece in c:\\users\\yixin\\appdata\\roaming\\python\\python310\\site-packages (from simpletransformers) (0.2.0)\n",
      "Requirement already satisfied: colorama in c:\\users\\yixin\\appdata\\roaming\\python\\python310\\site-packages (from tqdm>=4.47.0->simpletransformers) (0.4.6)\n",
      "Requirement already satisfied: filelock in c:\\users\\yixin\\appdata\\roaming\\python\\python310\\site-packages (from transformers>=4.31.0->simpletransformers) (3.13.4)\n",
      "Requirement already satisfied: huggingface-hub<1.0,>=0.19.3 in c:\\users\\yixin\\appdata\\roaming\\python\\python310\\site-packages (from transformers>=4.31.0->simpletransformers) (0.22.2)\n",
      "Requirement already satisfied: packaging>=20.0 in c:\\users\\yixin\\appdata\\roaming\\python\\python310\\site-packages (from transformers>=4.31.0->simpletransformers) (23.2)\n",
      "Requirement already satisfied: pyyaml>=5.1 in c:\\users\\yixin\\appdata\\roaming\\python\\python310\\site-packages (from transformers>=4.31.0->simpletransformers) (6.0.1)\n",
      "Requirement already satisfied: safetensors>=0.4.1 in c:\\users\\yixin\\appdata\\roaming\\python\\python310\\site-packages (from transformers>=4.31.0->simpletransformers) (0.4.2)\n",
      "Requirement already satisfied: Click!=8.0.0,>=7.1 in c:\\users\\yixin\\appdata\\roaming\\python\\python310\\site-packages (from wandb>=0.10.32->simpletransformers) (8.1.7)\n",
      "Requirement already satisfied: GitPython!=3.1.29,>=1.0.0 in c:\\users\\yixin\\appdata\\roaming\\python\\python310\\site-packages (from wandb>=0.10.32->simpletransformers) (3.1.43)\n",
      "Requirement already satisfied: psutil>=5.0.0 in c:\\users\\yixin\\appdata\\roaming\\python\\python310\\site-packages (from wandb>=0.10.32->simpletransformers) (5.9.6)\n",
      "Requirement already satisfied: sentry-sdk>=1.0.0 in c:\\users\\yixin\\appdata\\roaming\\python\\python310\\site-packages (from wandb>=0.10.32->simpletransformers) (1.45.0)\n",
      "Requirement already satisfied: docker-pycreds>=0.4.0 in c:\\users\\yixin\\appdata\\roaming\\python\\python310\\site-packages (from wandb>=0.10.32->simpletransformers) (0.4.0)\n",
      "Requirement already satisfied: setproctitle in c:\\users\\yixin\\appdata\\roaming\\python\\python310\\site-packages (from wandb>=0.10.32->simpletransformers) (1.3.3)\n",
      "Requirement already satisfied: setuptools in c:\\users\\yixin\\appdata\\roaming\\python\\python310\\site-packages (from wandb>=0.10.32->simpletransformers) (69.0.2)\n",
      "Requirement already satisfied: appdirs>=1.4.3 in c:\\users\\yixin\\appdata\\roaming\\python\\python310\\site-packages (from wandb>=0.10.32->simpletransformers) (1.4.4)\n",
      "Requirement already satisfied: protobuf!=4.21.0,<5,>=3.19.0 in c:\\users\\yixin\\appdata\\roaming\\python\\python310\\site-packages (from wandb>=0.10.32->simpletransformers) (4.23.4)\n",
      "Requirement already satisfied: charset-normalizer<4,>=2 in c:\\users\\yixin\\appdata\\roaming\\python\\python310\\site-packages (from requests->simpletransformers) (3.3.2)\n",
      "Requirement already satisfied: idna<4,>=2.5 in c:\\users\\yixin\\appdata\\roaming\\python\\python310\\site-packages (from requests->simpletransformers) (3.4)\n",
      "Requirement already satisfied: urllib3<3,>=1.21.1 in c:\\users\\yixin\\appdata\\roaming\\python\\python310\\site-packages (from requests->simpletransformers) (2.1.0)\n",
      "Requirement already satisfied: certifi>=2017.4.17 in c:\\users\\yixin\\appdata\\roaming\\python\\python310\\site-packages (from requests->simpletransformers) (2023.11.17)\n",
      "Requirement already satisfied: pyarrow>=12.0.0 in c:\\users\\yixin\\appdata\\roaming\\python\\python310\\site-packages (from datasets->simpletransformers) (15.0.2)\n",
      "Requirement already satisfied: pyarrow-hotfix in c:\\users\\yixin\\appdata\\roaming\\python\\python310\\site-packages (from datasets->simpletransformers) (0.6)\n",
      "Requirement already satisfied: dill<0.3.9,>=0.3.0 in c:\\users\\yixin\\appdata\\roaming\\python\\python310\\site-packages (from datasets->simpletransformers) (0.3.8)\n",
      "Requirement already satisfied: xxhash in c:\\users\\yixin\\appdata\\roaming\\python\\python310\\site-packages (from datasets->simpletransformers) (3.4.1)\n",
      "Requirement already satisfied: multiprocess in c:\\users\\yixin\\appdata\\roaming\\python\\python310\\site-packages (from datasets->simpletransformers) (0.70.16)\n",
      "Requirement already satisfied: fsspec<=2024.2.0,>=2023.1.0 in c:\\users\\yixin\\appdata\\roaming\\python\\python310\\site-packages (from fsspec[http]<=2024.2.0,>=2023.1.0->datasets->simpletransformers) (2024.2.0)\n",
      "Requirement already satisfied: aiohttp in c:\\users\\yixin\\appdata\\roaming\\python\\python310\\site-packages (from datasets->simpletransformers) (3.9.3)\n",
      "Requirement already satisfied: python-dateutil>=2.8.2 in c:\\users\\yixin\\appdata\\roaming\\python\\python310\\site-packages (from pandas->simpletransformers) (2.8.2)\n",
      "Requirement already satisfied: pytz>=2020.1 in c:\\users\\yixin\\appdata\\roaming\\python\\python310\\site-packages (from pandas->simpletransformers) (2023.3.post1)\n",
      "Requirement already satisfied: tzdata>=2022.1 in c:\\users\\yixin\\appdata\\roaming\\python\\python310\\site-packages (from pandas->simpletransformers) (2023.4)\n",
      "Requirement already satisfied: joblib>=1.1.1 in c:\\users\\yixin\\appdata\\roaming\\python\\python310\\site-packages (from scikit-learn->simpletransformers) (1.3.2)\n",
      "Requirement already satisfied: threadpoolctl>=2.0.0 in c:\\users\\yixin\\appdata\\roaming\\python\\python310\\site-packages (from scikit-learn->simpletransformers) (3.2.0)\n",
      "Requirement already satisfied: altair<6,>=4.0 in c:\\users\\yixin\\appdata\\roaming\\python\\python310\\site-packages (from streamlit->simpletransformers) (5.3.0)\n",
      "Requirement already satisfied: blinker<2,>=1.0.0 in c:\\users\\yixin\\appdata\\roaming\\python\\python310\\site-packages (from streamlit->simpletransformers) (1.7.0)\n",
      "Requirement already satisfied: cachetools<6,>=4.0 in c:\\users\\yixin\\appdata\\roaming\\python\\python310\\site-packages (from streamlit->simpletransformers) (5.3.2)\n",
      "Requirement already satisfied: pillow<11,>=7.1.0 in c:\\users\\yixin\\appdata\\roaming\\python\\python310\\site-packages (from streamlit->simpletransformers) (10.1.0)\n",
      "Requirement already satisfied: rich<14,>=10.14.0 in c:\\users\\yixin\\appdata\\roaming\\python\\python310\\site-packages (from streamlit->simpletransformers) (13.7.1)\n",
      "Requirement already satisfied: tenacity<9,>=8.1.0 in c:\\users\\yixin\\appdata\\roaming\\python\\python310\\site-packages (from streamlit->simpletransformers) (8.2.3)\n",
      "Requirement already satisfied: toml<2,>=0.10.1 in c:\\users\\yixin\\appdata\\roaming\\python\\python310\\site-packages (from streamlit->simpletransformers) (0.10.2)\n",
      "Requirement already satisfied: typing-extensions<5,>=4.3.0 in c:\\users\\yixin\\appdata\\roaming\\python\\python310\\site-packages (from streamlit->simpletransformers) (4.8.0)\n",
      "Requirement already satisfied: pydeck<1,>=0.8.0b4 in c:\\users\\yixin\\appdata\\roaming\\python\\python310\\site-packages (from streamlit->simpletransformers) (0.8.1b0)\n",
      "Requirement already satisfied: tornado<7,>=6.0.3 in c:\\users\\yixin\\appdata\\roaming\\python\\python310\\site-packages (from streamlit->simpletransformers) (6.3.3)\n",
      "Requirement already satisfied: watchdog>=2.1.5 in c:\\users\\yixin\\appdata\\roaming\\python\\python310\\site-packages (from streamlit->simpletransformers) (4.0.0)\n",
      "Requirement already satisfied: absl-py>=0.4 in c:\\users\\yixin\\appdata\\roaming\\python\\python310\\site-packages (from tensorboard->simpletransformers) (2.0.0)\n",
      "Requirement already satisfied: grpcio>=1.48.2 in c:\\users\\yixin\\appdata\\roaming\\python\\python310\\site-packages (from tensorboard->simpletransformers) (1.59.3)\n",
      "Requirement already satisfied: google-auth<3,>=1.6.3 in c:\\users\\yixin\\appdata\\roaming\\python\\python310\\site-packages (from tensorboard->simpletransformers) (2.24.0)\n",
      "Requirement already satisfied: google-auth-oauthlib<2,>=0.5 in c:\\users\\yixin\\appdata\\roaming\\python\\python310\\site-packages (from tensorboard->simpletransformers) (1.1.0)\n",
      "Requirement already satisfied: markdown>=2.6.8 in c:\\users\\yixin\\appdata\\roaming\\python\\python310\\site-packages (from tensorboard->simpletransformers) (3.5.1)\n",
      "Requirement already satisfied: six>1.9 in c:\\users\\yixin\\appdata\\roaming\\python\\python310\\site-packages (from tensorboard->simpletransformers) (1.16.0)\n",
      "Requirement already satisfied: tensorboard-data-server<0.8.0,>=0.7.0 in c:\\users\\yixin\\appdata\\roaming\\python\\python310\\site-packages (from tensorboard->simpletransformers) (0.7.2)\n",
      "Requirement already satisfied: werkzeug>=1.0.1 in c:\\users\\yixin\\appdata\\roaming\\python\\python310\\site-packages (from tensorboard->simpletransformers) (3.0.1)\n",
      "Requirement already satisfied: jinja2 in c:\\users\\yixin\\appdata\\roaming\\python\\python310\\site-packages (from altair<6,>=4.0->streamlit->simpletransformers) (3.1.2)\n",
      "Requirement already satisfied: jsonschema>=3.0 in c:\\users\\yixin\\appdata\\roaming\\python\\python310\\site-packages (from altair<6,>=4.0->streamlit->simpletransformers) (4.20.0)\n",
      "Requirement already satisfied: toolz in c:\\users\\yixin\\appdata\\roaming\\python\\python310\\site-packages (from altair<6,>=4.0->streamlit->simpletransformers) (0.12.1)\n",
      "Requirement already satisfied: aiosignal>=1.1.2 in c:\\users\\yixin\\appdata\\roaming\\python\\python310\\site-packages (from aiohttp->datasets->simpletransformers) (1.3.1)\n",
      "Requirement already satisfied: attrs>=17.3.0 in c:\\users\\yixin\\appdata\\roaming\\python\\python310\\site-packages (from aiohttp->datasets->simpletransformers) (23.1.0)\n",
      "Requirement already satisfied: frozenlist>=1.1.1 in c:\\users\\yixin\\appdata\\roaming\\python\\python310\\site-packages (from aiohttp->datasets->simpletransformers) (1.4.1)\n",
      "Requirement already satisfied: multidict<7.0,>=4.5 in c:\\users\\yixin\\appdata\\roaming\\python\\python310\\site-packages (from aiohttp->datasets->simpletransformers) (6.0.5)\n",
      "Requirement already satisfied: yarl<2.0,>=1.0 in c:\\users\\yixin\\appdata\\roaming\\python\\python310\\site-packages (from aiohttp->datasets->simpletransformers) (1.9.4)\n",
      "Requirement already satisfied: async-timeout<5.0,>=4.0 in c:\\users\\yixin\\appdata\\roaming\\python\\python310\\site-packages (from aiohttp->datasets->simpletransformers) (4.0.3)\n",
      "Requirement already satisfied: gitdb<5,>=4.0.1 in c:\\users\\yixin\\appdata\\roaming\\python\\python310\\site-packages (from GitPython!=3.1.29,>=1.0.0->wandb>=0.10.32->simpletransformers) (4.0.11)\n",
      "Requirement already satisfied: pyasn1-modules>=0.2.1 in c:\\users\\yixin\\appdata\\roaming\\python\\python310\\site-packages (from google-auth<3,>=1.6.3->tensorboard->simpletransformers) (0.3.0)\n",
      "Requirement already satisfied: rsa<5,>=3.1.4 in c:\\users\\yixin\\appdata\\roaming\\python\\python310\\site-packages (from google-auth<3,>=1.6.3->tensorboard->simpletransformers) (4.9)\n",
      "Requirement already satisfied: requests-oauthlib>=0.7.0 in c:\\users\\yixin\\appdata\\roaming\\python\\python310\\site-packages (from google-auth-oauthlib<2,>=0.5->tensorboard->simpletransformers) (1.3.1)\n",
      "Requirement already satisfied: markdown-it-py>=2.2.0 in c:\\users\\yixin\\appdata\\roaming\\python\\python310\\site-packages (from rich<14,>=10.14.0->streamlit->simpletransformers) (3.0.0)\n",
      "Requirement already satisfied: pygments<3.0.0,>=2.13.0 in c:\\users\\yixin\\appdata\\roaming\\python\\python310\\site-packages (from rich<14,>=10.14.0->streamlit->simpletransformers) (2.17.2)\n",
      "Requirement already satisfied: MarkupSafe>=2.1.1 in c:\\users\\yixin\\appdata\\roaming\\python\\python310\\site-packages (from werkzeug>=1.0.1->tensorboard->simpletransformers) (2.1.3)\n",
      "Requirement already satisfied: smmap<6,>=3.0.1 in c:\\users\\yixin\\appdata\\roaming\\python\\python310\\site-packages (from gitdb<5,>=4.0.1->GitPython!=3.1.29,>=1.0.0->wandb>=0.10.32->simpletransformers) (5.0.1)\n",
      "Requirement already satisfied: jsonschema-specifications>=2023.03.6 in c:\\users\\yixin\\appdata\\roaming\\python\\python310\\site-packages (from jsonschema>=3.0->altair<6,>=4.0->streamlit->simpletransformers) (2023.11.1)\n",
      "Requirement already satisfied: referencing>=0.28.4 in c:\\users\\yixin\\appdata\\roaming\\python\\python310\\site-packages (from jsonschema>=3.0->altair<6,>=4.0->streamlit->simpletransformers) (0.31.0)\n",
      "Requirement already satisfied: rpds-py>=0.7.1 in c:\\users\\yixin\\appdata\\roaming\\python\\python310\\site-packages (from jsonschema>=3.0->altair<6,>=4.0->streamlit->simpletransformers) (0.13.1)\n",
      "Requirement already satisfied: mdurl~=0.1 in c:\\users\\yixin\\appdata\\roaming\\python\\python310\\site-packages (from markdown-it-py>=2.2.0->rich<14,>=10.14.0->streamlit->simpletransformers) (0.1.2)\n",
      "Requirement already satisfied: pyasn1<0.6.0,>=0.4.6 in c:\\users\\yixin\\appdata\\roaming\\python\\python310\\site-packages (from pyasn1-modules>=0.2.1->google-auth<3,>=1.6.3->tensorboard->simpletransformers) (0.5.1)\n",
      "Requirement already satisfied: oauthlib>=3.0.0 in c:\\users\\yixin\\appdata\\roaming\\python\\python310\\site-packages (from requests-oauthlib>=0.7.0->google-auth-oauthlib<2,>=0.5->tensorboard->simpletransformers) (3.2.2)\n"
     ]
    }
   ],
   "source": [
    "## Uncomment and run if simpletransformers is not installed\n",
    "# !pip install simpletransformers"
   ]
  },
  {
   "cell_type": "markdown",
   "metadata": {},
   "source": [
    "###### Data splitting and data cleaningness check"
   ]
  },
  {
   "cell_type": "code",
   "execution_count": 10,
   "metadata": {
    "executionInfo": {
     "elapsed": 504,
     "status": "ok",
     "timestamp": 1712853691595,
     "user": {
      "displayName": "Yixing Wang",
      "userId": "04925506261831736908"
     },
     "user_tz": -120
    },
    "id": "tvXDuirg2dj-"
   },
   "outputs": [
    {
     "name": "stdout",
     "output_type": "stream",
     "text": [
      "WARNING:tensorflow:From C:\\Users\\yixin\\AppData\\Roaming\\Python\\Python310\\site-packages\\keras\\src\\losses.py:2976: The name tf.losses.sparse_softmax_cross_entropy is deprecated. Please use tf.compat.v1.losses.sparse_softmax_cross_entropy instead.\n",
      "\n"
     ]
    }
   ],
   "source": [
    "from sklearn.metrics import classification_report\n",
    "from sklearn.model_selection import train_test_split\n",
    "from simpletransformers.classification import ClassificationModel, ClassificationArgs\n",
    "import matplotlib.pyplot as plt\n",
    "import seaborn as sn"
   ]
  },
  {
   "cell_type": "code",
   "execution_count": 11,
   "metadata": {
    "executionInfo": {
     "elapsed": 7,
     "status": "ok",
     "timestamp": 1712853691595,
     "user": {
      "displayName": "Yixing Wang",
      "userId": "04925506261831736908"
     },
     "user_tz": -120
    },
    "id": "W497-5-BL5h_"
   },
   "outputs": [],
   "source": [
    "# Split the data into train, validate (develope) and test datasets in proportion of 60/20/20\n",
    "train_without_val, test = train_test_split(df, test_size=0.2, random_state=0, stratify=df[['label']])\n",
    "train, validation = train_test_split(train_without_val, test_size=0.2, random_state=0, stratify=train_without_val[['label']])"
   ]
  },
  {
   "cell_type": "code",
   "execution_count": 22,
   "metadata": {
    "executionInfo": {
     "elapsed": 7,
     "status": "ok",
     "timestamp": 1712853691595,
     "user": {
      "displayName": "Yixing Wang",
      "userId": "04925506261831736908"
     },
     "user_tz": -120
    },
    "id": "p5F5_asLi4OX"
   },
   "outputs": [],
   "source": [
    "# check overlapping: make sure that the training dataseet and the test dataset\n",
    "# are different before training to avoid overfitting!\n",
    "\n",
    "def check_overlapping(datalist1, datalist2):\n",
    "    \"\"\"\n",
    "    Check if two datasets are distinct and have no mutual datapoint. \n",
    "    Mainly used to ensure the integrity and cleaningness of training, validation and test dataset.\n",
    "\n",
    "    :param list(str) datalist1: The first datalist of text review.\n",
    "    :param list(str) datalist1: The second datalist of text review.\n",
    "\n",
    "    Examples:\n",
    "        >>>check_overlapping(datalist1=[i for i in train[\"text\"]], datalist2=[i for i in test[\"text\"]])\n",
    "            \"There is no overlapping! These two datasets have different data.\"\n",
    "    \"\"\"\n",
    "    \n",
    "    if len(set(datalist1).intersection(set(datalist2))) == 0:\n",
    "        print(\"There is no overlapping! These two datasets have different data.\")\n",
    "    else:\n",
    "        print(f\"Overlapping data found: \\n{set(datalist1).intersection(set(datalist2))}\")"
   ]
  },
  {
   "cell_type": "code",
   "execution_count": 13,
   "metadata": {
    "colab": {
     "base_uri": "https://localhost:8080/"
    },
    "executionInfo": {
     "elapsed": 6,
     "status": "ok",
     "timestamp": 1712853691595,
     "user": {
      "displayName": "Yixing Wang",
      "userId": "04925506261831736908"
     },
     "user_tz": -120
    },
    "id": "C6KhOcoKn9Mw",
    "outputId": "d9ba07a6-0789-48e0-b520-edca2981aadb"
   },
   "outputs": [
    {
     "name": "stdout",
     "output_type": "stream",
     "text": [
      "There is no overlapping! These two datasets have different data.\n",
      "There is no overlapping! These two datasets have different data.\n",
      "There is no overlapping! These two datasets have different data.\n"
     ]
    }
   ],
   "source": [
    "check_overlapping(datalist1=[i for i in train[\"text\"]], datalist2=[i for i in test[\"text\"]])\n",
    "check_overlapping(datalist1=[i for i in train[\"text\"]], datalist2=[i for i in validation[\"text\"]])\n",
    "check_overlapping(datalist1=[i for i in validation[\"text\"]], datalist2=[i for i in test[\"text\"]])"
   ]
  },
  {
   "cell_type": "markdown",
   "metadata": {
    "id": "I7-6Ovm12bf-"
   },
   "source": [
    "### 2: Topic modelling with BERT"
   ]
  },
  {
   "cell_type": "markdown",
   "metadata": {},
   "source": [
    "###### Model Initialization"
   ]
  },
  {
   "cell_type": "code",
   "execution_count": 16,
   "metadata": {
    "executionInfo": {
     "elapsed": 17,
     "status": "ok",
     "timestamp": 1712853699918,
     "user": {
      "displayName": "Yixing Wang",
      "userId": "04925506261831736908"
     },
     "user_tz": -120
    },
    "id": "cnTWFpqnNezO"
   },
   "outputs": [],
   "source": [
    "# Model configuration # https://simpletransformers.ai/docs/usage/#configuring-a-simple-transformers-model\n",
    "model_args = ClassificationArgs()\n",
    "\n",
    "model_args.overwrite_output_dir=True # overwrite existing saved models in the same directory\n",
    "model_args.evaluate_during_training=True # to perform evaluation while training the model\n",
    "# (eval data should be passed to the training method)\n",
    "\n",
    "model_args.num_train_epochs=10 # number of epochs\n",
    "model_args.train_batch_size=32 # batch size\n",
    "model_args.learning_rate=4e-6 # learning rate\n",
    "model_args.max_seq_length=128 # maximum sequence length\n",
    "# Note! Increasing max_seq_len may provide better performance, but training time will increase.\n",
    "\n",
    "# Early stopping to combat overfitting: https://simpletransformers.ai/docs/tips-and-tricks/#using-early-stopping\n",
    "model_args.use_early_stopping=True\n",
    "model_args.early_stopping_delta=0.01 # \"The improvement over best_eval_loss necessary to count as a better checkpoint\"\n",
    "model_args.early_stopping_metric='eval_loss'\n",
    "model_args.early_stopping_metric_minimize=True\n",
    "model_args.early_stopping_patience=2\n",
    "model_args.evaluate_during_training_steps=32 # how often you want to run validation in terms of training steps (or batches)"
   ]
  },
  {
   "cell_type": "code",
   "execution_count": 18,
   "metadata": {
    "colab": {
     "base_uri": "https://localhost:8080/"
    },
    "executionInfo": {
     "elapsed": 1502,
     "status": "ok",
     "timestamp": 1712853701404,
     "user": {
      "displayName": "Yixing Wang",
      "userId": "04925506261831736908"
     },
     "user_tz": -120
    },
    "id": "kccAqTyVNzml",
    "outputId": "10fec6fc-2538-4ac8-ed60-e8488e964351"
   },
   "outputs": [
    {
     "name": "stderr",
     "output_type": "stream",
     "text": [
      "Some weights of BertForSequenceClassification were not initialized from the model checkpoint at bert-base-uncased and are newly initialized: ['classifier.bias', 'classifier.weight']\n",
      "You should probably TRAIN this model on a down-stream task to be able to use it for predictions and inference.\n"
     ]
    }
   ],
   "source": [
    "model = ClassificationModel('bert', 'bert-base-uncased', num_labels=3, args=model_args, use_cuda=False) # CUDA is enabled"
   ]
  },
  {
   "cell_type": "markdown",
   "metadata": {},
   "source": [
    "###### Execute Training"
   ]
  },
  {
   "cell_type": "code",
   "execution_count": 19,
   "metadata": {
    "colab": {
     "base_uri": "https://localhost:8080/",
     "height": 202,
     "referenced_widgets": [
      "83bcb343e6dd433094ddb5c0d033478d",
      "b2f9d0e919a64c2b82f283a5904ecc9a",
      "1efc4af1cca146bcb61078a6c88fcf96",
      "5004dd5ad65a4af9ba434e7a53762680",
      "2bfc802105aa4983b63c4783e87cb684",
      "a20421defb854aa7bb074c2a2bba9edf",
      "1ed5b65eea5f4cda95df972d2b5255ed",
      "56ad62a7b6034b90b58cd79feba0b859",
      "f84a21abad8b400eaea59cd105cadb6a",
      "65d706a36c3d47d98926bafe4305c586",
      "6e824305b70d484291f18c4506021d41",
      "32c51d4571ac4612986e695d4273ddb2",
      "679f8da848cb459a9f736575d32dabcc",
      "9fd74073a06e441d8044aeda8b744a1f",
      "0e631f5cdf7e49d194a582a3a933a74b",
      "97ea9c7b498f46708f368521a12e3367",
      "242189a2ad45421fb577479311bc04dc",
      "cfea31dcf5e4465ebe367a77e0bfa549",
      "4485520a0ac64d7e93f17e8282c29c60",
      "22d0aa169e71429f84378c2c060803dc",
      "4fd40903ed214e248d312f0e7bdeac31",
      "27814229f5fe44a5986d769ec19075b7",
      "4dcdc4795b3b4cf9a4b83848eb2b4e06",
      "4c6dfc10e103489ead0533aaef53f211",
      "929f2c3c9cf44fad98bcf335fea41b64",
      "1a5e0a3074e544028ab8d8b74a5eb043",
      "334761f836234f59904028404c6128fe",
      "6c64a7f374eb4f129df57dec19e42ce9",
      "e60c81cc7dce4bc68d0bff93416ecf29",
      "b1b0c7eaa3f044d68074907103473ae7",
      "6b009ef0271c49d5bea550d8862e03cf",
      "e702b1f0e35b407286cca027f2fbd03a",
      "f9d02592c92a4d9f92bf5413cc588b15"
     ]
    },
    "id": "GHZ5VwwjQtDr",
    "outputId": "b3b17f52-6ce0-4bf3-9160-d09437c723b0"
   },
   "outputs": [
    {
     "name": "stderr",
     "output_type": "stream",
     "text": [
      "C:\\Users\\yixin\\AppData\\Roaming\\Python\\Python310\\site-packages\\simpletransformers\\classification\\classification_model.py:610: UserWarning: Dataframe headers not specified. Falling back to using column 0 as text and column 1 as labels.\n",
      "  warnings.warn(\n"
     ]
    },
    {
     "data": {
      "application/vnd.jupyter.widget-view+json": {
       "model_id": "4b80f9e54a2a448c91d2990f33877241",
       "version_major": 2,
       "version_minor": 0
      },
      "text/plain": [
       "  0%|          | 0/6 [00:00<?, ?it/s]"
      ]
     },
     "metadata": {},
     "output_type": "display_data"
    },
    {
     "data": {
      "application/vnd.jupyter.widget-view+json": {
       "model_id": "fca3362fc1f24157ba1744d823df8249",
       "version_major": 2,
       "version_minor": 0
      },
      "text/plain": [
       "Epoch:   0%|          | 0/10 [00:00<?, ?it/s]"
      ]
     },
     "metadata": {},
     "output_type": "display_data"
    },
    {
     "data": {
      "application/vnd.jupyter.widget-view+json": {
       "model_id": "5f0b36e7c30b4d34b4f320fb372b451d",
       "version_major": 2,
       "version_minor": 0
      },
      "text/plain": [
       "Running Epoch 1 of 10:   0%|          | 0/95 [00:00<?, ?it/s]"
      ]
     },
     "metadata": {},
     "output_type": "display_data"
    },
    {
     "name": "stderr",
     "output_type": "stream",
     "text": [
      "C:\\Users\\yixin\\AppData\\Roaming\\Python\\Python310\\site-packages\\simpletransformers\\classification\\classification_model.py:1453: UserWarning: Dataframe headers not specified. Falling back to using column 0 as text and column 1 as labels.\n",
      "  warnings.warn(\n"
     ]
    },
    {
     "data": {
      "application/vnd.jupyter.widget-view+json": {
       "model_id": "6ec5745441cd4a73b08e1438885048aa",
       "version_major": 2,
       "version_minor": 0
      },
      "text/plain": [
       "  0%|          | 0/1 [00:00<?, ?it/s]"
      ]
     },
     "metadata": {},
     "output_type": "display_data"
    },
    {
     "ename": "ValueError",
     "evalue": "Target is multiclass but average='binary'. Please choose another average setting, one of [None, 'micro', 'macro', 'weighted'].",
     "output_type": "error",
     "traceback": [
      "\u001b[1;31m---------------------------------------------------------------------------\u001b[0m",
      "\u001b[1;31mValueError\u001b[0m                                Traceback (most recent call last)",
      "Cell \u001b[1;32mIn[19], line 1\u001b[0m\n\u001b[1;32m----> 1\u001b[0m _, history \u001b[38;5;241m=\u001b[39m \u001b[43mmodel\u001b[49m\u001b[38;5;241;43m.\u001b[39;49m\u001b[43mtrain_model\u001b[49m\u001b[43m(\u001b[49m\u001b[43mtrain\u001b[49m\u001b[43m,\u001b[49m\u001b[43m \u001b[49m\u001b[43meval_df\u001b[49m\u001b[38;5;241;43m=\u001b[39;49m\u001b[43mvalidation\u001b[49m\u001b[43m,\u001b[49m\u001b[43m \u001b[49m\u001b[43mmulti_label\u001b[49m\u001b[38;5;241;43m=\u001b[39;49m\u001b[38;5;28;43;01mTrue\u001b[39;49;00m\u001b[43m)\u001b[49m\n",
      "File \u001b[1;32m~\\AppData\\Roaming\\Python\\Python310\\site-packages\\simpletransformers\\classification\\classification_model.py:630\u001b[0m, in \u001b[0;36mClassificationModel.train_model\u001b[1;34m(self, train_df, multi_label, output_dir, show_running_loss, args, eval_df, verbose, **kwargs)\u001b[0m\n\u001b[0;32m    621\u001b[0m train_dataloader \u001b[38;5;241m=\u001b[39m DataLoader(\n\u001b[0;32m    622\u001b[0m     train_dataset,\n\u001b[0;32m    623\u001b[0m     sampler\u001b[38;5;241m=\u001b[39mtrain_sampler,\n\u001b[0;32m    624\u001b[0m     batch_size\u001b[38;5;241m=\u001b[39m\u001b[38;5;28mself\u001b[39m\u001b[38;5;241m.\u001b[39margs\u001b[38;5;241m.\u001b[39mtrain_batch_size,\n\u001b[0;32m    625\u001b[0m     num_workers\u001b[38;5;241m=\u001b[39m\u001b[38;5;28mself\u001b[39m\u001b[38;5;241m.\u001b[39margs\u001b[38;5;241m.\u001b[39mdataloader_num_workers,\n\u001b[0;32m    626\u001b[0m )\n\u001b[0;32m    628\u001b[0m os\u001b[38;5;241m.\u001b[39mmakedirs(output_dir, exist_ok\u001b[38;5;241m=\u001b[39m\u001b[38;5;28;01mTrue\u001b[39;00m)\n\u001b[1;32m--> 630\u001b[0m global_step, training_details \u001b[38;5;241m=\u001b[39m \u001b[38;5;28mself\u001b[39m\u001b[38;5;241m.\u001b[39mtrain(\n\u001b[0;32m    631\u001b[0m     train_dataloader,\n\u001b[0;32m    632\u001b[0m     output_dir,\n\u001b[0;32m    633\u001b[0m     multi_label\u001b[38;5;241m=\u001b[39mmulti_label,\n\u001b[0;32m    634\u001b[0m     show_running_loss\u001b[38;5;241m=\u001b[39mshow_running_loss,\n\u001b[0;32m    635\u001b[0m     eval_df\u001b[38;5;241m=\u001b[39meval_df,\n\u001b[0;32m    636\u001b[0m     verbose\u001b[38;5;241m=\u001b[39mverbose,\n\u001b[0;32m    637\u001b[0m     \u001b[38;5;241m*\u001b[39m\u001b[38;5;241m*\u001b[39mkwargs,\n\u001b[0;32m    638\u001b[0m )\n\u001b[0;32m    640\u001b[0m \u001b[38;5;66;03m# model_to_save = self.model.module if hasattr(self.model, \"module\") else self.model\u001b[39;00m\n\u001b[0;32m    641\u001b[0m \u001b[38;5;66;03m# model_to_save.save_pretrained(output_dir)\u001b[39;00m\n\u001b[0;32m    642\u001b[0m \u001b[38;5;66;03m# self.tokenizer.save_pretrained(output_dir)\u001b[39;00m\n\u001b[0;32m    643\u001b[0m \u001b[38;5;66;03m# torch.save(self.args, os.path.join(output_dir, \"training_args.bin\"))\u001b[39;00m\n\u001b[0;32m    644\u001b[0m \u001b[38;5;28mself\u001b[39m\u001b[38;5;241m.\u001b[39msave_model(model\u001b[38;5;241m=\u001b[39m\u001b[38;5;28mself\u001b[39m\u001b[38;5;241m.\u001b[39mmodel)\n",
      "File \u001b[1;32m~\\AppData\\Roaming\\Python\\Python310\\site-packages\\simpletransformers\\classification\\classification_model.py:995\u001b[0m, in \u001b[0;36mClassificationModel.train\u001b[1;34m(self, train_dataloader, output_dir, multi_label, show_running_loss, eval_df, test_df, verbose, **kwargs)\u001b[0m\n\u001b[0;32m    986\u001b[0m     \u001b[38;5;28mself\u001b[39m\u001b[38;5;241m.\u001b[39msave_model(\n\u001b[0;32m    987\u001b[0m         output_dir_current, optimizer, scheduler, model\u001b[38;5;241m=\u001b[39mmodel\n\u001b[0;32m    988\u001b[0m     )\n\u001b[0;32m    990\u001b[0m \u001b[38;5;28;01mif\u001b[39;00m args\u001b[38;5;241m.\u001b[39mevaluate_during_training \u001b[38;5;129;01mand\u001b[39;00m (\n\u001b[0;32m    991\u001b[0m     args\u001b[38;5;241m.\u001b[39mevaluate_during_training_steps \u001b[38;5;241m>\u001b[39m \u001b[38;5;241m0\u001b[39m\n\u001b[0;32m    992\u001b[0m     \u001b[38;5;129;01mand\u001b[39;00m global_step \u001b[38;5;241m%\u001b[39m args\u001b[38;5;241m.\u001b[39mevaluate_during_training_steps \u001b[38;5;241m==\u001b[39m \u001b[38;5;241m0\u001b[39m\n\u001b[0;32m    993\u001b[0m ):\n\u001b[0;32m    994\u001b[0m     \u001b[38;5;66;03m# Only evaluate when single GPU otherwise metrics may not average well\u001b[39;00m\n\u001b[1;32m--> 995\u001b[0m     results, _, _ \u001b[38;5;241m=\u001b[39m \u001b[38;5;28mself\u001b[39m\u001b[38;5;241m.\u001b[39meval_model(\n\u001b[0;32m    996\u001b[0m         eval_df,\n\u001b[0;32m    997\u001b[0m         verbose\u001b[38;5;241m=\u001b[39mverbose \u001b[38;5;129;01mand\u001b[39;00m args\u001b[38;5;241m.\u001b[39mevaluate_during_training_verbose,\n\u001b[0;32m    998\u001b[0m         silent\u001b[38;5;241m=\u001b[39margs\u001b[38;5;241m.\u001b[39mevaluate_during_training_silent,\n\u001b[0;32m    999\u001b[0m         wandb_log\u001b[38;5;241m=\u001b[39m\u001b[38;5;28;01mFalse\u001b[39;00m,\n\u001b[0;32m   1000\u001b[0m         \u001b[38;5;241m*\u001b[39m\u001b[38;5;241m*\u001b[39mkwargs,\n\u001b[0;32m   1001\u001b[0m     )\n\u001b[0;32m   1003\u001b[0m     output_dir_current \u001b[38;5;241m=\u001b[39m os\u001b[38;5;241m.\u001b[39mpath\u001b[38;5;241m.\u001b[39mjoin(\n\u001b[0;32m   1004\u001b[0m         output_dir, \u001b[38;5;124m\"\u001b[39m\u001b[38;5;124mcheckpoint-\u001b[39m\u001b[38;5;132;01m{}\u001b[39;00m\u001b[38;5;124m\"\u001b[39m\u001b[38;5;241m.\u001b[39mformat(global_step)\n\u001b[0;32m   1005\u001b[0m     )\n\u001b[0;32m   1007\u001b[0m     \u001b[38;5;28;01mif\u001b[39;00m args\u001b[38;5;241m.\u001b[39msave_eval_checkpoints:\n",
      "File \u001b[1;32m~\\AppData\\Roaming\\Python\\Python310\\site-packages\\simpletransformers\\classification\\classification_model.py:1359\u001b[0m, in \u001b[0;36mClassificationModel.eval_model\u001b[1;34m(self, eval_df, multi_label, output_dir, verbose, silent, wandb_log, **kwargs)\u001b[0m\n\u001b[0;32m   1355\u001b[0m     output_dir \u001b[38;5;241m=\u001b[39m \u001b[38;5;28mself\u001b[39m\u001b[38;5;241m.\u001b[39margs\u001b[38;5;241m.\u001b[39moutput_dir\n\u001b[0;32m   1357\u001b[0m \u001b[38;5;28mself\u001b[39m\u001b[38;5;241m.\u001b[39m_move_model_to_device()\n\u001b[1;32m-> 1359\u001b[0m result, model_outputs, wrong_preds \u001b[38;5;241m=\u001b[39m \u001b[38;5;28mself\u001b[39m\u001b[38;5;241m.\u001b[39mevaluate(\n\u001b[0;32m   1360\u001b[0m     eval_df,\n\u001b[0;32m   1361\u001b[0m     output_dir,\n\u001b[0;32m   1362\u001b[0m     multi_label\u001b[38;5;241m=\u001b[39mmulti_label,\n\u001b[0;32m   1363\u001b[0m     verbose\u001b[38;5;241m=\u001b[39mverbose,\n\u001b[0;32m   1364\u001b[0m     silent\u001b[38;5;241m=\u001b[39msilent,\n\u001b[0;32m   1365\u001b[0m     wandb_log\u001b[38;5;241m=\u001b[39mwandb_log,\n\u001b[0;32m   1366\u001b[0m     \u001b[38;5;241m*\u001b[39m\u001b[38;5;241m*\u001b[39mkwargs,\n\u001b[0;32m   1367\u001b[0m )\n\u001b[0;32m   1368\u001b[0m \u001b[38;5;28mself\u001b[39m\u001b[38;5;241m.\u001b[39mresults\u001b[38;5;241m.\u001b[39mupdate(result)\n\u001b[0;32m   1370\u001b[0m \u001b[38;5;28;01mif\u001b[39;00m verbose:\n",
      "File \u001b[1;32m~\\AppData\\Roaming\\Python\\Python310\\site-packages\\simpletransformers\\classification\\classification_model.py:1599\u001b[0m, in \u001b[0;36mClassificationModel.evaluate\u001b[1;34m(self, eval_df, output_dir, multi_label, prefix, verbose, silent, wandb_log, **kwargs)\u001b[0m\n\u001b[0;32m   1596\u001b[0m     \u001b[38;5;28;01mif\u001b[39;00m \u001b[38;5;129;01mnot\u001b[39;00m multi_label:\n\u001b[0;32m   1597\u001b[0m         preds \u001b[38;5;241m=\u001b[39m np\u001b[38;5;241m.\u001b[39margmax(preds, axis\u001b[38;5;241m=\u001b[39m\u001b[38;5;241m1\u001b[39m)\n\u001b[1;32m-> 1599\u001b[0m result, wrong \u001b[38;5;241m=\u001b[39m \u001b[38;5;28mself\u001b[39m\u001b[38;5;241m.\u001b[39mcompute_metrics(\n\u001b[0;32m   1600\u001b[0m     preds, model_outputs, out_label_ids, eval_examples, \u001b[38;5;241m*\u001b[39m\u001b[38;5;241m*\u001b[39mkwargs\n\u001b[0;32m   1601\u001b[0m )\n\u001b[0;32m   1602\u001b[0m result[\u001b[38;5;124m\"\u001b[39m\u001b[38;5;124meval_loss\u001b[39m\u001b[38;5;124m\"\u001b[39m] \u001b[38;5;241m=\u001b[39m eval_loss\n\u001b[0;32m   1603\u001b[0m results\u001b[38;5;241m.\u001b[39mupdate(result)\n",
      "File \u001b[1;32m~\\AppData\\Roaming\\Python\\Python310\\site-packages\\simpletransformers\\classification\\classification_model.py:1929\u001b[0m, in \u001b[0;36mClassificationModel.compute_metrics\u001b[1;34m(self, preds, model_outputs, labels, eval_examples, multi_label, **kwargs)\u001b[0m\n\u001b[0;32m   1927\u001b[0m mcc \u001b[38;5;241m=\u001b[39m matthews_corrcoef(labels, preds)\n\u001b[0;32m   1928\u001b[0m accuracy \u001b[38;5;241m=\u001b[39m accuracy_score(labels, preds)\n\u001b[1;32m-> 1929\u001b[0m f1 \u001b[38;5;241m=\u001b[39m \u001b[43mf1_score\u001b[49m\u001b[43m(\u001b[49m\u001b[43mlabels\u001b[49m\u001b[43m,\u001b[49m\u001b[43m \u001b[49m\u001b[43mpreds\u001b[49m\u001b[43m)\u001b[49m\n\u001b[0;32m   1930\u001b[0m \u001b[38;5;28;01mif\u001b[39;00m \u001b[38;5;28mself\u001b[39m\u001b[38;5;241m.\u001b[39mmodel\u001b[38;5;241m.\u001b[39mnum_labels \u001b[38;5;241m==\u001b[39m \u001b[38;5;241m2\u001b[39m:\n\u001b[0;32m   1931\u001b[0m     tn, fp, fn, tp \u001b[38;5;241m=\u001b[39m confusion_matrix(labels, preds, labels\u001b[38;5;241m=\u001b[39m[\u001b[38;5;241m0\u001b[39m, \u001b[38;5;241m1\u001b[39m])\u001b[38;5;241m.\u001b[39mravel()\n",
      "File \u001b[1;32m~\\AppData\\Roaming\\Python\\Python310\\site-packages\\sklearn\\utils\\_param_validation.py:214\u001b[0m, in \u001b[0;36mvalidate_params.<locals>.decorator.<locals>.wrapper\u001b[1;34m(*args, **kwargs)\u001b[0m\n\u001b[0;32m    208\u001b[0m \u001b[38;5;28;01mtry\u001b[39;00m:\n\u001b[0;32m    209\u001b[0m     \u001b[38;5;28;01mwith\u001b[39;00m config_context(\n\u001b[0;32m    210\u001b[0m         skip_parameter_validation\u001b[38;5;241m=\u001b[39m(\n\u001b[0;32m    211\u001b[0m             prefer_skip_nested_validation \u001b[38;5;129;01mor\u001b[39;00m global_skip_validation\n\u001b[0;32m    212\u001b[0m         )\n\u001b[0;32m    213\u001b[0m     ):\n\u001b[1;32m--> 214\u001b[0m         \u001b[38;5;28;01mreturn\u001b[39;00m func(\u001b[38;5;241m*\u001b[39margs, \u001b[38;5;241m*\u001b[39m\u001b[38;5;241m*\u001b[39mkwargs)\n\u001b[0;32m    215\u001b[0m \u001b[38;5;28;01mexcept\u001b[39;00m InvalidParameterError \u001b[38;5;28;01mas\u001b[39;00m e:\n\u001b[0;32m    216\u001b[0m     \u001b[38;5;66;03m# When the function is just a wrapper around an estimator, we allow\u001b[39;00m\n\u001b[0;32m    217\u001b[0m     \u001b[38;5;66;03m# the function to delegate validation to the estimator, but we replace\u001b[39;00m\n\u001b[0;32m    218\u001b[0m     \u001b[38;5;66;03m# the name of the estimator by the name of the function in the error\u001b[39;00m\n\u001b[0;32m    219\u001b[0m     \u001b[38;5;66;03m# message to avoid confusion.\u001b[39;00m\n\u001b[0;32m    220\u001b[0m     msg \u001b[38;5;241m=\u001b[39m re\u001b[38;5;241m.\u001b[39msub(\n\u001b[0;32m    221\u001b[0m         \u001b[38;5;124mr\u001b[39m\u001b[38;5;124m\"\u001b[39m\u001b[38;5;124mparameter of \u001b[39m\u001b[38;5;124m\\\u001b[39m\u001b[38;5;124mw+ must be\u001b[39m\u001b[38;5;124m\"\u001b[39m,\n\u001b[0;32m    222\u001b[0m         \u001b[38;5;124mf\u001b[39m\u001b[38;5;124m\"\u001b[39m\u001b[38;5;124mparameter of \u001b[39m\u001b[38;5;132;01m{\u001b[39;00mfunc\u001b[38;5;241m.\u001b[39m\u001b[38;5;18m__qualname__\u001b[39m\u001b[38;5;132;01m}\u001b[39;00m\u001b[38;5;124m must be\u001b[39m\u001b[38;5;124m\"\u001b[39m,\n\u001b[0;32m    223\u001b[0m         \u001b[38;5;28mstr\u001b[39m(e),\n\u001b[0;32m    224\u001b[0m     )\n",
      "File \u001b[1;32m~\\AppData\\Roaming\\Python\\Python310\\site-packages\\sklearn\\metrics\\_classification.py:1239\u001b[0m, in \u001b[0;36mf1_score\u001b[1;34m(y_true, y_pred, labels, pos_label, average, sample_weight, zero_division)\u001b[0m\n\u001b[0;32m   1070\u001b[0m \u001b[38;5;129m@validate_params\u001b[39m(\n\u001b[0;32m   1071\u001b[0m     {\n\u001b[0;32m   1072\u001b[0m         \u001b[38;5;124m\"\u001b[39m\u001b[38;5;124my_true\u001b[39m\u001b[38;5;124m\"\u001b[39m: [\u001b[38;5;124m\"\u001b[39m\u001b[38;5;124marray-like\u001b[39m\u001b[38;5;124m\"\u001b[39m, \u001b[38;5;124m\"\u001b[39m\u001b[38;5;124msparse matrix\u001b[39m\u001b[38;5;124m\"\u001b[39m],\n\u001b[1;32m   (...)\u001b[0m\n\u001b[0;32m   1097\u001b[0m     zero_division\u001b[38;5;241m=\u001b[39m\u001b[38;5;124m\"\u001b[39m\u001b[38;5;124mwarn\u001b[39m\u001b[38;5;124m\"\u001b[39m,\n\u001b[0;32m   1098\u001b[0m ):\n\u001b[0;32m   1099\u001b[0m \u001b[38;5;250m    \u001b[39m\u001b[38;5;124;03m\"\"\"Compute the F1 score, also known as balanced F-score or F-measure.\u001b[39;00m\n\u001b[0;32m   1100\u001b[0m \n\u001b[0;32m   1101\u001b[0m \u001b[38;5;124;03m    The F1 score can be interpreted as a harmonic mean of the precision and\u001b[39;00m\n\u001b[1;32m   (...)\u001b[0m\n\u001b[0;32m   1237\u001b[0m \u001b[38;5;124;03m    array([0.66666667, 1.        , 0.66666667])\u001b[39;00m\n\u001b[0;32m   1238\u001b[0m \u001b[38;5;124;03m    \"\"\"\u001b[39;00m\n\u001b[1;32m-> 1239\u001b[0m     \u001b[38;5;28;01mreturn\u001b[39;00m \u001b[43mfbeta_score\u001b[49m\u001b[43m(\u001b[49m\n\u001b[0;32m   1240\u001b[0m \u001b[43m        \u001b[49m\u001b[43my_true\u001b[49m\u001b[43m,\u001b[49m\n\u001b[0;32m   1241\u001b[0m \u001b[43m        \u001b[49m\u001b[43my_pred\u001b[49m\u001b[43m,\u001b[49m\n\u001b[0;32m   1242\u001b[0m \u001b[43m        \u001b[49m\u001b[43mbeta\u001b[49m\u001b[38;5;241;43m=\u001b[39;49m\u001b[38;5;241;43m1\u001b[39;49m\u001b[43m,\u001b[49m\n\u001b[0;32m   1243\u001b[0m \u001b[43m        \u001b[49m\u001b[43mlabels\u001b[49m\u001b[38;5;241;43m=\u001b[39;49m\u001b[43mlabels\u001b[49m\u001b[43m,\u001b[49m\n\u001b[0;32m   1244\u001b[0m \u001b[43m        \u001b[49m\u001b[43mpos_label\u001b[49m\u001b[38;5;241;43m=\u001b[39;49m\u001b[43mpos_label\u001b[49m\u001b[43m,\u001b[49m\n\u001b[0;32m   1245\u001b[0m \u001b[43m        \u001b[49m\u001b[43maverage\u001b[49m\u001b[38;5;241;43m=\u001b[39;49m\u001b[43maverage\u001b[49m\u001b[43m,\u001b[49m\n\u001b[0;32m   1246\u001b[0m \u001b[43m        \u001b[49m\u001b[43msample_weight\u001b[49m\u001b[38;5;241;43m=\u001b[39;49m\u001b[43msample_weight\u001b[49m\u001b[43m,\u001b[49m\n\u001b[0;32m   1247\u001b[0m \u001b[43m        \u001b[49m\u001b[43mzero_division\u001b[49m\u001b[38;5;241;43m=\u001b[39;49m\u001b[43mzero_division\u001b[49m\u001b[43m,\u001b[49m\n\u001b[0;32m   1248\u001b[0m \u001b[43m    \u001b[49m\u001b[43m)\u001b[49m\n",
      "File \u001b[1;32m~\\AppData\\Roaming\\Python\\Python310\\site-packages\\sklearn\\utils\\_param_validation.py:187\u001b[0m, in \u001b[0;36mvalidate_params.<locals>.decorator.<locals>.wrapper\u001b[1;34m(*args, **kwargs)\u001b[0m\n\u001b[0;32m    185\u001b[0m global_skip_validation \u001b[38;5;241m=\u001b[39m get_config()[\u001b[38;5;124m\"\u001b[39m\u001b[38;5;124mskip_parameter_validation\u001b[39m\u001b[38;5;124m\"\u001b[39m]\n\u001b[0;32m    186\u001b[0m \u001b[38;5;28;01mif\u001b[39;00m global_skip_validation:\n\u001b[1;32m--> 187\u001b[0m     \u001b[38;5;28;01mreturn\u001b[39;00m func(\u001b[38;5;241m*\u001b[39margs, \u001b[38;5;241m*\u001b[39m\u001b[38;5;241m*\u001b[39mkwargs)\n\u001b[0;32m    189\u001b[0m func_sig \u001b[38;5;241m=\u001b[39m signature(func)\n\u001b[0;32m    191\u001b[0m \u001b[38;5;66;03m# Map *args/**kwargs to the function signature\u001b[39;00m\n",
      "File \u001b[1;32m~\\AppData\\Roaming\\Python\\Python310\\site-packages\\sklearn\\metrics\\_classification.py:1413\u001b[0m, in \u001b[0;36mfbeta_score\u001b[1;34m(y_true, y_pred, beta, labels, pos_label, average, sample_weight, zero_division)\u001b[0m\n\u001b[0;32m   1251\u001b[0m \u001b[38;5;129m@validate_params\u001b[39m(\n\u001b[0;32m   1252\u001b[0m     {\n\u001b[0;32m   1253\u001b[0m         \u001b[38;5;124m\"\u001b[39m\u001b[38;5;124my_true\u001b[39m\u001b[38;5;124m\"\u001b[39m: [\u001b[38;5;124m\"\u001b[39m\u001b[38;5;124marray-like\u001b[39m\u001b[38;5;124m\"\u001b[39m, \u001b[38;5;124m\"\u001b[39m\u001b[38;5;124msparse matrix\u001b[39m\u001b[38;5;124m\"\u001b[39m],\n\u001b[1;32m   (...)\u001b[0m\n\u001b[0;32m   1280\u001b[0m     zero_division\u001b[38;5;241m=\u001b[39m\u001b[38;5;124m\"\u001b[39m\u001b[38;5;124mwarn\u001b[39m\u001b[38;5;124m\"\u001b[39m,\n\u001b[0;32m   1281\u001b[0m ):\n\u001b[0;32m   1282\u001b[0m \u001b[38;5;250m    \u001b[39m\u001b[38;5;124;03m\"\"\"Compute the F-beta score.\u001b[39;00m\n\u001b[0;32m   1283\u001b[0m \n\u001b[0;32m   1284\u001b[0m \u001b[38;5;124;03m    The F-beta score is the weighted harmonic mean of precision and recall,\u001b[39;00m\n\u001b[1;32m   (...)\u001b[0m\n\u001b[0;32m   1410\u001b[0m \u001b[38;5;124;03m    0.38...\u001b[39;00m\n\u001b[0;32m   1411\u001b[0m \u001b[38;5;124;03m    \"\"\"\u001b[39;00m\n\u001b[1;32m-> 1413\u001b[0m     _, _, f, _ \u001b[38;5;241m=\u001b[39m \u001b[43mprecision_recall_fscore_support\u001b[49m\u001b[43m(\u001b[49m\n\u001b[0;32m   1414\u001b[0m \u001b[43m        \u001b[49m\u001b[43my_true\u001b[49m\u001b[43m,\u001b[49m\n\u001b[0;32m   1415\u001b[0m \u001b[43m        \u001b[49m\u001b[43my_pred\u001b[49m\u001b[43m,\u001b[49m\n\u001b[0;32m   1416\u001b[0m \u001b[43m        \u001b[49m\u001b[43mbeta\u001b[49m\u001b[38;5;241;43m=\u001b[39;49m\u001b[43mbeta\u001b[49m\u001b[43m,\u001b[49m\n\u001b[0;32m   1417\u001b[0m \u001b[43m        \u001b[49m\u001b[43mlabels\u001b[49m\u001b[38;5;241;43m=\u001b[39;49m\u001b[43mlabels\u001b[49m\u001b[43m,\u001b[49m\n\u001b[0;32m   1418\u001b[0m \u001b[43m        \u001b[49m\u001b[43mpos_label\u001b[49m\u001b[38;5;241;43m=\u001b[39;49m\u001b[43mpos_label\u001b[49m\u001b[43m,\u001b[49m\n\u001b[0;32m   1419\u001b[0m \u001b[43m        \u001b[49m\u001b[43maverage\u001b[49m\u001b[38;5;241;43m=\u001b[39;49m\u001b[43maverage\u001b[49m\u001b[43m,\u001b[49m\n\u001b[0;32m   1420\u001b[0m \u001b[43m        \u001b[49m\u001b[43mwarn_for\u001b[49m\u001b[38;5;241;43m=\u001b[39;49m\u001b[43m(\u001b[49m\u001b[38;5;124;43m\"\u001b[39;49m\u001b[38;5;124;43mf-score\u001b[39;49m\u001b[38;5;124;43m\"\u001b[39;49m\u001b[43m,\u001b[49m\u001b[43m)\u001b[49m\u001b[43m,\u001b[49m\n\u001b[0;32m   1421\u001b[0m \u001b[43m        \u001b[49m\u001b[43msample_weight\u001b[49m\u001b[38;5;241;43m=\u001b[39;49m\u001b[43msample_weight\u001b[49m\u001b[43m,\u001b[49m\n\u001b[0;32m   1422\u001b[0m \u001b[43m        \u001b[49m\u001b[43mzero_division\u001b[49m\u001b[38;5;241;43m=\u001b[39;49m\u001b[43mzero_division\u001b[49m\u001b[43m,\u001b[49m\n\u001b[0;32m   1423\u001b[0m \u001b[43m    \u001b[49m\u001b[43m)\u001b[49m\n\u001b[0;32m   1424\u001b[0m     \u001b[38;5;28;01mreturn\u001b[39;00m f\n",
      "File \u001b[1;32m~\\AppData\\Roaming\\Python\\Python310\\site-packages\\sklearn\\utils\\_param_validation.py:187\u001b[0m, in \u001b[0;36mvalidate_params.<locals>.decorator.<locals>.wrapper\u001b[1;34m(*args, **kwargs)\u001b[0m\n\u001b[0;32m    185\u001b[0m global_skip_validation \u001b[38;5;241m=\u001b[39m get_config()[\u001b[38;5;124m\"\u001b[39m\u001b[38;5;124mskip_parameter_validation\u001b[39m\u001b[38;5;124m\"\u001b[39m]\n\u001b[0;32m    186\u001b[0m \u001b[38;5;28;01mif\u001b[39;00m global_skip_validation:\n\u001b[1;32m--> 187\u001b[0m     \u001b[38;5;28;01mreturn\u001b[39;00m func(\u001b[38;5;241m*\u001b[39margs, \u001b[38;5;241m*\u001b[39m\u001b[38;5;241m*\u001b[39mkwargs)\n\u001b[0;32m    189\u001b[0m func_sig \u001b[38;5;241m=\u001b[39m signature(func)\n\u001b[0;32m    191\u001b[0m \u001b[38;5;66;03m# Map *args/**kwargs to the function signature\u001b[39;00m\n",
      "File \u001b[1;32m~\\AppData\\Roaming\\Python\\Python310\\site-packages\\sklearn\\metrics\\_classification.py:1724\u001b[0m, in \u001b[0;36mprecision_recall_fscore_support\u001b[1;34m(y_true, y_pred, beta, labels, pos_label, average, warn_for, sample_weight, zero_division)\u001b[0m\n\u001b[0;32m   1566\u001b[0m \u001b[38;5;250m\u001b[39m\u001b[38;5;124;03m\"\"\"Compute precision, recall, F-measure and support for each class.\u001b[39;00m\n\u001b[0;32m   1567\u001b[0m \n\u001b[0;32m   1568\u001b[0m \u001b[38;5;124;03mThe precision is the ratio ``tp / (tp + fp)`` where ``tp`` is the number of\u001b[39;00m\n\u001b[1;32m   (...)\u001b[0m\n\u001b[0;32m   1721\u001b[0m \u001b[38;5;124;03m array([2, 2, 2]))\u001b[39;00m\n\u001b[0;32m   1722\u001b[0m \u001b[38;5;124;03m\"\"\"\u001b[39;00m\n\u001b[0;32m   1723\u001b[0m zero_division_value \u001b[38;5;241m=\u001b[39m _check_zero_division(zero_division)\n\u001b[1;32m-> 1724\u001b[0m labels \u001b[38;5;241m=\u001b[39m \u001b[43m_check_set_wise_labels\u001b[49m\u001b[43m(\u001b[49m\u001b[43my_true\u001b[49m\u001b[43m,\u001b[49m\u001b[43m \u001b[49m\u001b[43my_pred\u001b[49m\u001b[43m,\u001b[49m\u001b[43m \u001b[49m\u001b[43maverage\u001b[49m\u001b[43m,\u001b[49m\u001b[43m \u001b[49m\u001b[43mlabels\u001b[49m\u001b[43m,\u001b[49m\u001b[43m \u001b[49m\u001b[43mpos_label\u001b[49m\u001b[43m)\u001b[49m\n\u001b[0;32m   1726\u001b[0m \u001b[38;5;66;03m# Calculate tp_sum, pred_sum, true_sum ###\u001b[39;00m\n\u001b[0;32m   1727\u001b[0m samplewise \u001b[38;5;241m=\u001b[39m average \u001b[38;5;241m==\u001b[39m \u001b[38;5;124m\"\u001b[39m\u001b[38;5;124msamples\u001b[39m\u001b[38;5;124m\"\u001b[39m\n",
      "File \u001b[1;32m~\\AppData\\Roaming\\Python\\Python310\\site-packages\\sklearn\\metrics\\_classification.py:1518\u001b[0m, in \u001b[0;36m_check_set_wise_labels\u001b[1;34m(y_true, y_pred, average, labels, pos_label)\u001b[0m\n\u001b[0;32m   1516\u001b[0m         \u001b[38;5;28;01mif\u001b[39;00m y_type \u001b[38;5;241m==\u001b[39m \u001b[38;5;124m\"\u001b[39m\u001b[38;5;124mmulticlass\u001b[39m\u001b[38;5;124m\"\u001b[39m:\n\u001b[0;32m   1517\u001b[0m             average_options\u001b[38;5;241m.\u001b[39mremove(\u001b[38;5;124m\"\u001b[39m\u001b[38;5;124msamples\u001b[39m\u001b[38;5;124m\"\u001b[39m)\n\u001b[1;32m-> 1518\u001b[0m         \u001b[38;5;28;01mraise\u001b[39;00m \u001b[38;5;167;01mValueError\u001b[39;00m(\n\u001b[0;32m   1519\u001b[0m             \u001b[38;5;124m\"\u001b[39m\u001b[38;5;124mTarget is \u001b[39m\u001b[38;5;132;01m%s\u001b[39;00m\u001b[38;5;124m but average=\u001b[39m\u001b[38;5;124m'\u001b[39m\u001b[38;5;124mbinary\u001b[39m\u001b[38;5;124m'\u001b[39m\u001b[38;5;124m. Please \u001b[39m\u001b[38;5;124m\"\u001b[39m\n\u001b[0;32m   1520\u001b[0m             \u001b[38;5;124m\"\u001b[39m\u001b[38;5;124mchoose another average setting, one of \u001b[39m\u001b[38;5;132;01m%r\u001b[39;00m\u001b[38;5;124m.\u001b[39m\u001b[38;5;124m\"\u001b[39m \u001b[38;5;241m%\u001b[39m (y_type, average_options)\n\u001b[0;32m   1521\u001b[0m         )\n\u001b[0;32m   1522\u001b[0m \u001b[38;5;28;01melif\u001b[39;00m pos_label \u001b[38;5;129;01mnot\u001b[39;00m \u001b[38;5;129;01min\u001b[39;00m (\u001b[38;5;28;01mNone\u001b[39;00m, \u001b[38;5;241m1\u001b[39m):\n\u001b[0;32m   1523\u001b[0m     warnings\u001b[38;5;241m.\u001b[39mwarn(\n\u001b[0;32m   1524\u001b[0m         \u001b[38;5;124m\"\u001b[39m\u001b[38;5;124mNote that pos_label (set to \u001b[39m\u001b[38;5;132;01m%r\u001b[39;00m\u001b[38;5;124m) is ignored when \u001b[39m\u001b[38;5;124m\"\u001b[39m\n\u001b[0;32m   1525\u001b[0m         \u001b[38;5;124m\"\u001b[39m\u001b[38;5;124maverage != \u001b[39m\u001b[38;5;124m'\u001b[39m\u001b[38;5;124mbinary\u001b[39m\u001b[38;5;124m'\u001b[39m\u001b[38;5;124m (got \u001b[39m\u001b[38;5;132;01m%r\u001b[39;00m\u001b[38;5;124m). You may use \u001b[39m\u001b[38;5;124m\"\u001b[39m\n\u001b[1;32m   (...)\u001b[0m\n\u001b[0;32m   1528\u001b[0m         \u001b[38;5;167;01mUserWarning\u001b[39;00m,\n\u001b[0;32m   1529\u001b[0m     )\n",
      "\u001b[1;31mValueError\u001b[0m: Target is multiclass but average='binary'. Please choose another average setting, one of [None, 'micro', 'macro', 'weighted']."
     ]
    }
   ],
   "source": [
    "_, history = model.train_model(train, eval_df=validation, multi_label=True)"
   ]
  },
  {
   "cell_type": "code",
   "execution_count": null,
   "metadata": {
    "executionInfo": {
     "elapsed": 10,
     "status": "aborted",
     "timestamp": 1712853716945,
     "user": {
      "displayName": "Yixing Wang",
      "userId": "04925506261831736908"
     },
     "user_tz": -120
    },
    "id": "FAO9pnrXXyFS"
   },
   "outputs": [],
   "source": [
    "train_loss = history['train_loss']\n",
    "eval_loss = history['eval_loss']\n",
    "plt.plot(train_loss, label='Training loss')\n",
    "plt.plot(eval_loss, label='Evaluation loss')\n",
    "plt.title('Training and evaluation loss')\n",
    "plt.legend()"
   ]
  },
  {
   "cell_type": "code",
   "execution_count": null,
   "metadata": {
    "executionInfo": {
     "elapsed": 11,
     "status": "aborted",
     "timestamp": 1712853716946,
     "user": {
      "displayName": "Yixing Wang",
      "userId": "04925506261831736908"
     },
     "user_tz": -120
    },
    "id": "R_NLO7j68Hso"
   },
   "outputs": [],
   "source": [
    "bert_predicted, bert_probabilities = model.predict(test.text.to_list())\n",
    "test['predicted'] = bert_predicted"
   ]
  },
  {
   "cell_type": "code",
   "execution_count": null,
   "metadata": {
    "executionInfo": {
     "elapsed": 11,
     "status": "aborted",
     "timestamp": 1712853716946,
     "user": {
      "displayName": "Yixing Wang",
      "userId": "04925506261831736908"
     },
     "user_tz": -120
    },
    "id": "ANalqtRw8YmG"
   },
   "outputs": [],
   "source": [
    "print(\"Classification Report of BERT\")\n",
    "print(classification_report(test['label'], test['predicted']))"
   ]
  },
  {
   "cell_type": "markdown",
   "metadata": {
    "id": "vM9-4S6CvcgV"
   },
   "source": [
    "### 3. Topic modelling with roBERTa"
   ]
  },
  {
   "cell_type": "code",
   "execution_count": null,
   "metadata": {
    "executionInfo": {
     "elapsed": 11,
     "status": "aborted",
     "timestamp": 1712853716946,
     "user": {
      "displayName": "Yixing Wang",
      "userId": "04925506261831736908"
     },
     "user_tz": -120
    },
    "id": "a9HEAMohwbhr"
   },
   "outputs": [],
   "source": [
    "roberta = ClassificationModel('roberta', 'roberta-base',num_labels=3, args=model_args,use_cuda=True)"
   ]
  },
  {
   "cell_type": "code",
   "execution_count": null,
   "metadata": {
    "executionInfo": {
     "elapsed": 11,
     "status": "aborted",
     "timestamp": 1712853716946,
     "user": {
      "displayName": "Yixing Wang",
      "userId": "04925506261831736908"
     },
     "user_tz": -120
    },
    "id": "cgQqZ3LHwh4k"
   },
   "outputs": [],
   "source": [
    "_, history = roberta.train_model(train, eval_df=validation)"
   ]
  },
  {
   "cell_type": "code",
   "execution_count": null,
   "metadata": {
    "executionInfo": {
     "elapsed": 12,
     "status": "aborted",
     "timestamp": 1712853716947,
     "user": {
      "displayName": "Yixing Wang",
      "userId": "04925506261831736908"
     },
     "user_tz": -120
    },
    "id": "7RiIpnLmwxJD"
   },
   "outputs": [],
   "source": [
    "train_loss = history['train_loss']\n",
    "eval_loss = history['eval_loss']\n",
    "plt.plot(train_loss, label='Training loss')\n",
    "plt.plot(eval_loss, label='Evaluation loss')\n",
    "plt.title('Training and evaluation loss')\n",
    "plt.legend()"
   ]
  },
  {
   "cell_type": "code",
   "execution_count": null,
   "metadata": {
    "executionInfo": {
     "elapsed": 11,
     "status": "aborted",
     "timestamp": 1712853716947,
     "user": {
      "displayName": "Yixing Wang",
      "userId": "04925506261831736908"
     },
     "user_tz": -120
    },
    "id": "rgpeBs9P88Co"
   },
   "outputs": [],
   "source": [
    "roberta_predicted, roberta_probabilities = roberta.predict(test.text.to_list())\n",
    "test['predicted'] = roberta_predicted"
   ]
  },
  {
   "cell_type": "code",
   "execution_count": null,
   "metadata": {
    "executionInfo": {
     "elapsed": 12,
     "status": "aborted",
     "timestamp": 1712853716948,
     "user": {
      "displayName": "Yixing Wang",
      "userId": "04925506261831736908"
     },
     "user_tz": -120
    },
    "id": "QbMyf3IN881_"
   },
   "outputs": [],
   "source": [
    "print(\"Classification report of roBERTa\")\n",
    "print(classification_report(test['label'], test['predicted']))"
   ]
  }
 ],
 "metadata": {
  "accelerator": "GPU",
  "colab": {
   "provenance": [
    {
     "file_id": "1zEe0louLZe6cePTC1CvbsNKWhU5jjuKE",
     "timestamp": 1680374574368
    }
   ]
  },
  "gpuClass": "standard",
  "kernelspec": {
   "display_name": "Python 3 (ipykernel)",
   "language": "python",
   "name": "python3"
  },
  "language_info": {
   "codemirror_mode": {
    "name": "ipython",
    "version": 3
   },
   "file_extension": ".py",
   "mimetype": "text/x-python",
   "name": "python",
   "nbconvert_exporter": "python",
   "pygments_lexer": "ipython3",
   "version": "3.10.6"
  },
  "widgets": {
   "application/vnd.jupyter.widget-state+json": {
    "0e631f5cdf7e49d194a582a3a933a74b": {
     "model_module": "@jupyter-widgets/controls",
     "model_module_version": "1.5.0",
     "model_name": "HTMLModel",
     "state": {
      "_dom_classes": [],
      "_model_module": "@jupyter-widgets/controls",
      "_model_module_version": "1.5.0",
      "_model_name": "HTMLModel",
      "_view_count": null,
      "_view_module": "@jupyter-widgets/controls",
      "_view_module_version": "1.5.0",
      "_view_name": "HTMLView",
      "description": "",
      "description_tooltip": null,
      "layout": "IPY_MODEL_4fd40903ed214e248d312f0e7bdeac31",
      "placeholder": "​",
      "style": "IPY_MODEL_27814229f5fe44a5986d769ec19075b7",
      "value": " 0/10 [00:00&lt;?, ?it/s]"
     }
    },
    "1a5e0a3074e544028ab8d8b74a5eb043": {
     "model_module": "@jupyter-widgets/controls",
     "model_module_version": "1.5.0",
     "model_name": "HTMLModel",
     "state": {
      "_dom_classes": [],
      "_model_module": "@jupyter-widgets/controls",
      "_model_module_version": "1.5.0",
      "_model_name": "HTMLModel",
      "_view_count": null,
      "_view_module": "@jupyter-widgets/controls",
      "_view_module_version": "1.5.0",
      "_view_name": "HTMLView",
      "description": "",
      "description_tooltip": null,
      "layout": "IPY_MODEL_e702b1f0e35b407286cca027f2fbd03a",
      "placeholder": "​",
      "style": "IPY_MODEL_f9d02592c92a4d9f92bf5413cc588b15",
      "value": " 6/95 [00:01&lt;00:21,  4.09it/s]"
     }
    },
    "1ed5b65eea5f4cda95df972d2b5255ed": {
     "model_module": "@jupyter-widgets/controls",
     "model_module_version": "1.5.0",
     "model_name": "DescriptionStyleModel",
     "state": {
      "_model_module": "@jupyter-widgets/controls",
      "_model_module_version": "1.5.0",
      "_model_name": "DescriptionStyleModel",
      "_view_count": null,
      "_view_module": "@jupyter-widgets/base",
      "_view_module_version": "1.2.0",
      "_view_name": "StyleView",
      "description_width": ""
     }
    },
    "1efc4af1cca146bcb61078a6c88fcf96": {
     "model_module": "@jupyter-widgets/controls",
     "model_module_version": "1.5.0",
     "model_name": "FloatProgressModel",
     "state": {
      "_dom_classes": [],
      "_model_module": "@jupyter-widgets/controls",
      "_model_module_version": "1.5.0",
      "_model_name": "FloatProgressModel",
      "_view_count": null,
      "_view_module": "@jupyter-widgets/controls",
      "_view_module_version": "1.5.0",
      "_view_name": "ProgressView",
      "bar_style": "success",
      "description": "",
      "description_tooltip": null,
      "layout": "IPY_MODEL_56ad62a7b6034b90b58cd79feba0b859",
      "max": 6,
      "min": 0,
      "orientation": "horizontal",
      "style": "IPY_MODEL_f84a21abad8b400eaea59cd105cadb6a",
      "value": 6
     }
    },
    "22d0aa169e71429f84378c2c060803dc": {
     "model_module": "@jupyter-widgets/controls",
     "model_module_version": "1.5.0",
     "model_name": "ProgressStyleModel",
     "state": {
      "_model_module": "@jupyter-widgets/controls",
      "_model_module_version": "1.5.0",
      "_model_name": "ProgressStyleModel",
      "_view_count": null,
      "_view_module": "@jupyter-widgets/base",
      "_view_module_version": "1.2.0",
      "_view_name": "StyleView",
      "bar_color": null,
      "description_width": ""
     }
    },
    "242189a2ad45421fb577479311bc04dc": {
     "model_module": "@jupyter-widgets/base",
     "model_module_version": "1.2.0",
     "model_name": "LayoutModel",
     "state": {
      "_model_module": "@jupyter-widgets/base",
      "_model_module_version": "1.2.0",
      "_model_name": "LayoutModel",
      "_view_count": null,
      "_view_module": "@jupyter-widgets/base",
      "_view_module_version": "1.2.0",
      "_view_name": "LayoutView",
      "align_content": null,
      "align_items": null,
      "align_self": null,
      "border": null,
      "bottom": null,
      "display": null,
      "flex": null,
      "flex_flow": null,
      "grid_area": null,
      "grid_auto_columns": null,
      "grid_auto_flow": null,
      "grid_auto_rows": null,
      "grid_column": null,
      "grid_gap": null,
      "grid_row": null,
      "grid_template_areas": null,
      "grid_template_columns": null,
      "grid_template_rows": null,
      "height": null,
      "justify_content": null,
      "justify_items": null,
      "left": null,
      "margin": null,
      "max_height": null,
      "max_width": null,
      "min_height": null,
      "min_width": null,
      "object_fit": null,
      "object_position": null,
      "order": null,
      "overflow": null,
      "overflow_x": null,
      "overflow_y": null,
      "padding": null,
      "right": null,
      "top": null,
      "visibility": null,
      "width": null
     }
    },
    "27814229f5fe44a5986d769ec19075b7": {
     "model_module": "@jupyter-widgets/controls",
     "model_module_version": "1.5.0",
     "model_name": "DescriptionStyleModel",
     "state": {
      "_model_module": "@jupyter-widgets/controls",
      "_model_module_version": "1.5.0",
      "_model_name": "DescriptionStyleModel",
      "_view_count": null,
      "_view_module": "@jupyter-widgets/base",
      "_view_module_version": "1.2.0",
      "_view_name": "StyleView",
      "description_width": ""
     }
    },
    "2bfc802105aa4983b63c4783e87cb684": {
     "model_module": "@jupyter-widgets/base",
     "model_module_version": "1.2.0",
     "model_name": "LayoutModel",
     "state": {
      "_model_module": "@jupyter-widgets/base",
      "_model_module_version": "1.2.0",
      "_model_name": "LayoutModel",
      "_view_count": null,
      "_view_module": "@jupyter-widgets/base",
      "_view_module_version": "1.2.0",
      "_view_name": "LayoutView",
      "align_content": null,
      "align_items": null,
      "align_self": null,
      "border": null,
      "bottom": null,
      "display": null,
      "flex": null,
      "flex_flow": null,
      "grid_area": null,
      "grid_auto_columns": null,
      "grid_auto_flow": null,
      "grid_auto_rows": null,
      "grid_column": null,
      "grid_gap": null,
      "grid_row": null,
      "grid_template_areas": null,
      "grid_template_columns": null,
      "grid_template_rows": null,
      "height": null,
      "justify_content": null,
      "justify_items": null,
      "left": null,
      "margin": null,
      "max_height": null,
      "max_width": null,
      "min_height": null,
      "min_width": null,
      "object_fit": null,
      "object_position": null,
      "order": null,
      "overflow": null,
      "overflow_x": null,
      "overflow_y": null,
      "padding": null,
      "right": null,
      "top": null,
      "visibility": null,
      "width": null
     }
    },
    "32c51d4571ac4612986e695d4273ddb2": {
     "model_module": "@jupyter-widgets/controls",
     "model_module_version": "1.5.0",
     "model_name": "HBoxModel",
     "state": {
      "_dom_classes": [],
      "_model_module": "@jupyter-widgets/controls",
      "_model_module_version": "1.5.0",
      "_model_name": "HBoxModel",
      "_view_count": null,
      "_view_module": "@jupyter-widgets/controls",
      "_view_module_version": "1.5.0",
      "_view_name": "HBoxView",
      "box_style": "",
      "children": [
       "IPY_MODEL_679f8da848cb459a9f736575d32dabcc",
       "IPY_MODEL_9fd74073a06e441d8044aeda8b744a1f",
       "IPY_MODEL_0e631f5cdf7e49d194a582a3a933a74b"
      ],
      "layout": "IPY_MODEL_97ea9c7b498f46708f368521a12e3367"
     }
    },
    "334761f836234f59904028404c6128fe": {
     "model_module": "@jupyter-widgets/base",
     "model_module_version": "1.2.0",
     "model_name": "LayoutModel",
     "state": {
      "_model_module": "@jupyter-widgets/base",
      "_model_module_version": "1.2.0",
      "_model_name": "LayoutModel",
      "_view_count": null,
      "_view_module": "@jupyter-widgets/base",
      "_view_module_version": "1.2.0",
      "_view_name": "LayoutView",
      "align_content": null,
      "align_items": null,
      "align_self": null,
      "border": null,
      "bottom": null,
      "display": null,
      "flex": null,
      "flex_flow": null,
      "grid_area": null,
      "grid_auto_columns": null,
      "grid_auto_flow": null,
      "grid_auto_rows": null,
      "grid_column": null,
      "grid_gap": null,
      "grid_row": null,
      "grid_template_areas": null,
      "grid_template_columns": null,
      "grid_template_rows": null,
      "height": null,
      "justify_content": null,
      "justify_items": null,
      "left": null,
      "margin": null,
      "max_height": null,
      "max_width": null,
      "min_height": null,
      "min_width": null,
      "object_fit": null,
      "object_position": null,
      "order": null,
      "overflow": null,
      "overflow_x": null,
      "overflow_y": null,
      "padding": null,
      "right": null,
      "top": null,
      "visibility": null,
      "width": null
     }
    },
    "4485520a0ac64d7e93f17e8282c29c60": {
     "model_module": "@jupyter-widgets/base",
     "model_module_version": "1.2.0",
     "model_name": "LayoutModel",
     "state": {
      "_model_module": "@jupyter-widgets/base",
      "_model_module_version": "1.2.0",
      "_model_name": "LayoutModel",
      "_view_count": null,
      "_view_module": "@jupyter-widgets/base",
      "_view_module_version": "1.2.0",
      "_view_name": "LayoutView",
      "align_content": null,
      "align_items": null,
      "align_self": null,
      "border": null,
      "bottom": null,
      "display": null,
      "flex": null,
      "flex_flow": null,
      "grid_area": null,
      "grid_auto_columns": null,
      "grid_auto_flow": null,
      "grid_auto_rows": null,
      "grid_column": null,
      "grid_gap": null,
      "grid_row": null,
      "grid_template_areas": null,
      "grid_template_columns": null,
      "grid_template_rows": null,
      "height": null,
      "justify_content": null,
      "justify_items": null,
      "left": null,
      "margin": null,
      "max_height": null,
      "max_width": null,
      "min_height": null,
      "min_width": null,
      "object_fit": null,
      "object_position": null,
      "order": null,
      "overflow": null,
      "overflow_x": null,
      "overflow_y": null,
      "padding": null,
      "right": null,
      "top": null,
      "visibility": null,
      "width": null
     }
    },
    "4c6dfc10e103489ead0533aaef53f211": {
     "model_module": "@jupyter-widgets/controls",
     "model_module_version": "1.5.0",
     "model_name": "HTMLModel",
     "state": {
      "_dom_classes": [],
      "_model_module": "@jupyter-widgets/controls",
      "_model_module_version": "1.5.0",
      "_model_name": "HTMLModel",
      "_view_count": null,
      "_view_module": "@jupyter-widgets/controls",
      "_view_module_version": "1.5.0",
      "_view_name": "HTMLView",
      "description": "",
      "description_tooltip": null,
      "layout": "IPY_MODEL_6c64a7f374eb4f129df57dec19e42ce9",
      "placeholder": "​",
      "style": "IPY_MODEL_e60c81cc7dce4bc68d0bff93416ecf29",
      "value": "Epochs 1/10. Running Loss:    1.0516:   6%"
     }
    },
    "4dcdc4795b3b4cf9a4b83848eb2b4e06": {
     "model_module": "@jupyter-widgets/controls",
     "model_module_version": "1.5.0",
     "model_name": "HBoxModel",
     "state": {
      "_dom_classes": [],
      "_model_module": "@jupyter-widgets/controls",
      "_model_module_version": "1.5.0",
      "_model_name": "HBoxModel",
      "_view_count": null,
      "_view_module": "@jupyter-widgets/controls",
      "_view_module_version": "1.5.0",
      "_view_name": "HBoxView",
      "box_style": "",
      "children": [
       "IPY_MODEL_4c6dfc10e103489ead0533aaef53f211",
       "IPY_MODEL_929f2c3c9cf44fad98bcf335fea41b64",
       "IPY_MODEL_1a5e0a3074e544028ab8d8b74a5eb043"
      ],
      "layout": "IPY_MODEL_334761f836234f59904028404c6128fe"
     }
    },
    "4fd40903ed214e248d312f0e7bdeac31": {
     "model_module": "@jupyter-widgets/base",
     "model_module_version": "1.2.0",
     "model_name": "LayoutModel",
     "state": {
      "_model_module": "@jupyter-widgets/base",
      "_model_module_version": "1.2.0",
      "_model_name": "LayoutModel",
      "_view_count": null,
      "_view_module": "@jupyter-widgets/base",
      "_view_module_version": "1.2.0",
      "_view_name": "LayoutView",
      "align_content": null,
      "align_items": null,
      "align_self": null,
      "border": null,
      "bottom": null,
      "display": null,
      "flex": null,
      "flex_flow": null,
      "grid_area": null,
      "grid_auto_columns": null,
      "grid_auto_flow": null,
      "grid_auto_rows": null,
      "grid_column": null,
      "grid_gap": null,
      "grid_row": null,
      "grid_template_areas": null,
      "grid_template_columns": null,
      "grid_template_rows": null,
      "height": null,
      "justify_content": null,
      "justify_items": null,
      "left": null,
      "margin": null,
      "max_height": null,
      "max_width": null,
      "min_height": null,
      "min_width": null,
      "object_fit": null,
      "object_position": null,
      "order": null,
      "overflow": null,
      "overflow_x": null,
      "overflow_y": null,
      "padding": null,
      "right": null,
      "top": null,
      "visibility": null,
      "width": null
     }
    },
    "5004dd5ad65a4af9ba434e7a53762680": {
     "model_module": "@jupyter-widgets/controls",
     "model_module_version": "1.5.0",
     "model_name": "HTMLModel",
     "state": {
      "_dom_classes": [],
      "_model_module": "@jupyter-widgets/controls",
      "_model_module_version": "1.5.0",
      "_model_name": "HTMLModel",
      "_view_count": null,
      "_view_module": "@jupyter-widgets/controls",
      "_view_module_version": "1.5.0",
      "_view_name": "HTMLView",
      "description": "",
      "description_tooltip": null,
      "layout": "IPY_MODEL_65d706a36c3d47d98926bafe4305c586",
      "placeholder": "​",
      "style": "IPY_MODEL_6e824305b70d484291f18c4506021d41",
      "value": " 7/? [00:04&lt;00:00,  1.43it/s]"
     }
    },
    "56ad62a7b6034b90b58cd79feba0b859": {
     "model_module": "@jupyter-widgets/base",
     "model_module_version": "1.2.0",
     "model_name": "LayoutModel",
     "state": {
      "_model_module": "@jupyter-widgets/base",
      "_model_module_version": "1.2.0",
      "_model_name": "LayoutModel",
      "_view_count": null,
      "_view_module": "@jupyter-widgets/base",
      "_view_module_version": "1.2.0",
      "_view_name": "LayoutView",
      "align_content": null,
      "align_items": null,
      "align_self": null,
      "border": null,
      "bottom": null,
      "display": null,
      "flex": null,
      "flex_flow": null,
      "grid_area": null,
      "grid_auto_columns": null,
      "grid_auto_flow": null,
      "grid_auto_rows": null,
      "grid_column": null,
      "grid_gap": null,
      "grid_row": null,
      "grid_template_areas": null,
      "grid_template_columns": null,
      "grid_template_rows": null,
      "height": null,
      "justify_content": null,
      "justify_items": null,
      "left": null,
      "margin": null,
      "max_height": null,
      "max_width": null,
      "min_height": null,
      "min_width": null,
      "object_fit": null,
      "object_position": null,
      "order": null,
      "overflow": null,
      "overflow_x": null,
      "overflow_y": null,
      "padding": null,
      "right": null,
      "top": null,
      "visibility": null,
      "width": null
     }
    },
    "65d706a36c3d47d98926bafe4305c586": {
     "model_module": "@jupyter-widgets/base",
     "model_module_version": "1.2.0",
     "model_name": "LayoutModel",
     "state": {
      "_model_module": "@jupyter-widgets/base",
      "_model_module_version": "1.2.0",
      "_model_name": "LayoutModel",
      "_view_count": null,
      "_view_module": "@jupyter-widgets/base",
      "_view_module_version": "1.2.0",
      "_view_name": "LayoutView",
      "align_content": null,
      "align_items": null,
      "align_self": null,
      "border": null,
      "bottom": null,
      "display": null,
      "flex": null,
      "flex_flow": null,
      "grid_area": null,
      "grid_auto_columns": null,
      "grid_auto_flow": null,
      "grid_auto_rows": null,
      "grid_column": null,
      "grid_gap": null,
      "grid_row": null,
      "grid_template_areas": null,
      "grid_template_columns": null,
      "grid_template_rows": null,
      "height": null,
      "justify_content": null,
      "justify_items": null,
      "left": null,
      "margin": null,
      "max_height": null,
      "max_width": null,
      "min_height": null,
      "min_width": null,
      "object_fit": null,
      "object_position": null,
      "order": null,
      "overflow": null,
      "overflow_x": null,
      "overflow_y": null,
      "padding": null,
      "right": null,
      "top": null,
      "visibility": null,
      "width": null
     }
    },
    "679f8da848cb459a9f736575d32dabcc": {
     "model_module": "@jupyter-widgets/controls",
     "model_module_version": "1.5.0",
     "model_name": "HTMLModel",
     "state": {
      "_dom_classes": [],
      "_model_module": "@jupyter-widgets/controls",
      "_model_module_version": "1.5.0",
      "_model_name": "HTMLModel",
      "_view_count": null,
      "_view_module": "@jupyter-widgets/controls",
      "_view_module_version": "1.5.0",
      "_view_name": "HTMLView",
      "description": "",
      "description_tooltip": null,
      "layout": "IPY_MODEL_242189a2ad45421fb577479311bc04dc",
      "placeholder": "​",
      "style": "IPY_MODEL_cfea31dcf5e4465ebe367a77e0bfa549",
      "value": "Epoch 1 of 10:   0%"
     }
    },
    "6b009ef0271c49d5bea550d8862e03cf": {
     "model_module": "@jupyter-widgets/controls",
     "model_module_version": "1.5.0",
     "model_name": "ProgressStyleModel",
     "state": {
      "_model_module": "@jupyter-widgets/controls",
      "_model_module_version": "1.5.0",
      "_model_name": "ProgressStyleModel",
      "_view_count": null,
      "_view_module": "@jupyter-widgets/base",
      "_view_module_version": "1.2.0",
      "_view_name": "StyleView",
      "bar_color": null,
      "description_width": ""
     }
    },
    "6c64a7f374eb4f129df57dec19e42ce9": {
     "model_module": "@jupyter-widgets/base",
     "model_module_version": "1.2.0",
     "model_name": "LayoutModel",
     "state": {
      "_model_module": "@jupyter-widgets/base",
      "_model_module_version": "1.2.0",
      "_model_name": "LayoutModel",
      "_view_count": null,
      "_view_module": "@jupyter-widgets/base",
      "_view_module_version": "1.2.0",
      "_view_name": "LayoutView",
      "align_content": null,
      "align_items": null,
      "align_self": null,
      "border": null,
      "bottom": null,
      "display": null,
      "flex": null,
      "flex_flow": null,
      "grid_area": null,
      "grid_auto_columns": null,
      "grid_auto_flow": null,
      "grid_auto_rows": null,
      "grid_column": null,
      "grid_gap": null,
      "grid_row": null,
      "grid_template_areas": null,
      "grid_template_columns": null,
      "grid_template_rows": null,
      "height": null,
      "justify_content": null,
      "justify_items": null,
      "left": null,
      "margin": null,
      "max_height": null,
      "max_width": null,
      "min_height": null,
      "min_width": null,
      "object_fit": null,
      "object_position": null,
      "order": null,
      "overflow": null,
      "overflow_x": null,
      "overflow_y": null,
      "padding": null,
      "right": null,
      "top": null,
      "visibility": null,
      "width": null
     }
    },
    "6e824305b70d484291f18c4506021d41": {
     "model_module": "@jupyter-widgets/controls",
     "model_module_version": "1.5.0",
     "model_name": "DescriptionStyleModel",
     "state": {
      "_model_module": "@jupyter-widgets/controls",
      "_model_module_version": "1.5.0",
      "_model_name": "DescriptionStyleModel",
      "_view_count": null,
      "_view_module": "@jupyter-widgets/base",
      "_view_module_version": "1.2.0",
      "_view_name": "StyleView",
      "description_width": ""
     }
    },
    "83bcb343e6dd433094ddb5c0d033478d": {
     "model_module": "@jupyter-widgets/controls",
     "model_module_version": "1.5.0",
     "model_name": "HBoxModel",
     "state": {
      "_dom_classes": [],
      "_model_module": "@jupyter-widgets/controls",
      "_model_module_version": "1.5.0",
      "_model_name": "HBoxModel",
      "_view_count": null,
      "_view_module": "@jupyter-widgets/controls",
      "_view_module_version": "1.5.0",
      "_view_name": "HBoxView",
      "box_style": "",
      "children": [
       "IPY_MODEL_b2f9d0e919a64c2b82f283a5904ecc9a",
       "IPY_MODEL_1efc4af1cca146bcb61078a6c88fcf96",
       "IPY_MODEL_5004dd5ad65a4af9ba434e7a53762680"
      ],
      "layout": "IPY_MODEL_2bfc802105aa4983b63c4783e87cb684"
     }
    },
    "929f2c3c9cf44fad98bcf335fea41b64": {
     "model_module": "@jupyter-widgets/controls",
     "model_module_version": "1.5.0",
     "model_name": "FloatProgressModel",
     "state": {
      "_dom_classes": [],
      "_model_module": "@jupyter-widgets/controls",
      "_model_module_version": "1.5.0",
      "_model_name": "FloatProgressModel",
      "_view_count": null,
      "_view_module": "@jupyter-widgets/controls",
      "_view_module_version": "1.5.0",
      "_view_name": "ProgressView",
      "bar_style": "",
      "description": "",
      "description_tooltip": null,
      "layout": "IPY_MODEL_b1b0c7eaa3f044d68074907103473ae7",
      "max": 95,
      "min": 0,
      "orientation": "horizontal",
      "style": "IPY_MODEL_6b009ef0271c49d5bea550d8862e03cf",
      "value": 6
     }
    },
    "97ea9c7b498f46708f368521a12e3367": {
     "model_module": "@jupyter-widgets/base",
     "model_module_version": "1.2.0",
     "model_name": "LayoutModel",
     "state": {
      "_model_module": "@jupyter-widgets/base",
      "_model_module_version": "1.2.0",
      "_model_name": "LayoutModel",
      "_view_count": null,
      "_view_module": "@jupyter-widgets/base",
      "_view_module_version": "1.2.0",
      "_view_name": "LayoutView",
      "align_content": null,
      "align_items": null,
      "align_self": null,
      "border": null,
      "bottom": null,
      "display": null,
      "flex": null,
      "flex_flow": null,
      "grid_area": null,
      "grid_auto_columns": null,
      "grid_auto_flow": null,
      "grid_auto_rows": null,
      "grid_column": null,
      "grid_gap": null,
      "grid_row": null,
      "grid_template_areas": null,
      "grid_template_columns": null,
      "grid_template_rows": null,
      "height": null,
      "justify_content": null,
      "justify_items": null,
      "left": null,
      "margin": null,
      "max_height": null,
      "max_width": null,
      "min_height": null,
      "min_width": null,
      "object_fit": null,
      "object_position": null,
      "order": null,
      "overflow": null,
      "overflow_x": null,
      "overflow_y": null,
      "padding": null,
      "right": null,
      "top": null,
      "visibility": null,
      "width": null
     }
    },
    "9fd74073a06e441d8044aeda8b744a1f": {
     "model_module": "@jupyter-widgets/controls",
     "model_module_version": "1.5.0",
     "model_name": "FloatProgressModel",
     "state": {
      "_dom_classes": [],
      "_model_module": "@jupyter-widgets/controls",
      "_model_module_version": "1.5.0",
      "_model_name": "FloatProgressModel",
      "_view_count": null,
      "_view_module": "@jupyter-widgets/controls",
      "_view_module_version": "1.5.0",
      "_view_name": "ProgressView",
      "bar_style": "",
      "description": "",
      "description_tooltip": null,
      "layout": "IPY_MODEL_4485520a0ac64d7e93f17e8282c29c60",
      "max": 10,
      "min": 0,
      "orientation": "horizontal",
      "style": "IPY_MODEL_22d0aa169e71429f84378c2c060803dc",
      "value": 0
     }
    },
    "a20421defb854aa7bb074c2a2bba9edf": {
     "model_module": "@jupyter-widgets/base",
     "model_module_version": "1.2.0",
     "model_name": "LayoutModel",
     "state": {
      "_model_module": "@jupyter-widgets/base",
      "_model_module_version": "1.2.0",
      "_model_name": "LayoutModel",
      "_view_count": null,
      "_view_module": "@jupyter-widgets/base",
      "_view_module_version": "1.2.0",
      "_view_name": "LayoutView",
      "align_content": null,
      "align_items": null,
      "align_self": null,
      "border": null,
      "bottom": null,
      "display": null,
      "flex": null,
      "flex_flow": null,
      "grid_area": null,
      "grid_auto_columns": null,
      "grid_auto_flow": null,
      "grid_auto_rows": null,
      "grid_column": null,
      "grid_gap": null,
      "grid_row": null,
      "grid_template_areas": null,
      "grid_template_columns": null,
      "grid_template_rows": null,
      "height": null,
      "justify_content": null,
      "justify_items": null,
      "left": null,
      "margin": null,
      "max_height": null,
      "max_width": null,
      "min_height": null,
      "min_width": null,
      "object_fit": null,
      "object_position": null,
      "order": null,
      "overflow": null,
      "overflow_x": null,
      "overflow_y": null,
      "padding": null,
      "right": null,
      "top": null,
      "visibility": null,
      "width": null
     }
    },
    "b1b0c7eaa3f044d68074907103473ae7": {
     "model_module": "@jupyter-widgets/base",
     "model_module_version": "1.2.0",
     "model_name": "LayoutModel",
     "state": {
      "_model_module": "@jupyter-widgets/base",
      "_model_module_version": "1.2.0",
      "_model_name": "LayoutModel",
      "_view_count": null,
      "_view_module": "@jupyter-widgets/base",
      "_view_module_version": "1.2.0",
      "_view_name": "LayoutView",
      "align_content": null,
      "align_items": null,
      "align_self": null,
      "border": null,
      "bottom": null,
      "display": null,
      "flex": null,
      "flex_flow": null,
      "grid_area": null,
      "grid_auto_columns": null,
      "grid_auto_flow": null,
      "grid_auto_rows": null,
      "grid_column": null,
      "grid_gap": null,
      "grid_row": null,
      "grid_template_areas": null,
      "grid_template_columns": null,
      "grid_template_rows": null,
      "height": null,
      "justify_content": null,
      "justify_items": null,
      "left": null,
      "margin": null,
      "max_height": null,
      "max_width": null,
      "min_height": null,
      "min_width": null,
      "object_fit": null,
      "object_position": null,
      "order": null,
      "overflow": null,
      "overflow_x": null,
      "overflow_y": null,
      "padding": null,
      "right": null,
      "top": null,
      "visibility": null,
      "width": null
     }
    },
    "b2f9d0e919a64c2b82f283a5904ecc9a": {
     "model_module": "@jupyter-widgets/controls",
     "model_module_version": "1.5.0",
     "model_name": "HTMLModel",
     "state": {
      "_dom_classes": [],
      "_model_module": "@jupyter-widgets/controls",
      "_model_module_version": "1.5.0",
      "_model_name": "HTMLModel",
      "_view_count": null,
      "_view_module": "@jupyter-widgets/controls",
      "_view_module_version": "1.5.0",
      "_view_name": "HTMLView",
      "description": "",
      "description_tooltip": null,
      "layout": "IPY_MODEL_a20421defb854aa7bb074c2a2bba9edf",
      "placeholder": "​",
      "style": "IPY_MODEL_1ed5b65eea5f4cda95df972d2b5255ed",
      "value": ""
     }
    },
    "cfea31dcf5e4465ebe367a77e0bfa549": {
     "model_module": "@jupyter-widgets/controls",
     "model_module_version": "1.5.0",
     "model_name": "DescriptionStyleModel",
     "state": {
      "_model_module": "@jupyter-widgets/controls",
      "_model_module_version": "1.5.0",
      "_model_name": "DescriptionStyleModel",
      "_view_count": null,
      "_view_module": "@jupyter-widgets/base",
      "_view_module_version": "1.2.0",
      "_view_name": "StyleView",
      "description_width": ""
     }
    },
    "e60c81cc7dce4bc68d0bff93416ecf29": {
     "model_module": "@jupyter-widgets/controls",
     "model_module_version": "1.5.0",
     "model_name": "DescriptionStyleModel",
     "state": {
      "_model_module": "@jupyter-widgets/controls",
      "_model_module_version": "1.5.0",
      "_model_name": "DescriptionStyleModel",
      "_view_count": null,
      "_view_module": "@jupyter-widgets/base",
      "_view_module_version": "1.2.0",
      "_view_name": "StyleView",
      "description_width": ""
     }
    },
    "e702b1f0e35b407286cca027f2fbd03a": {
     "model_module": "@jupyter-widgets/base",
     "model_module_version": "1.2.0",
     "model_name": "LayoutModel",
     "state": {
      "_model_module": "@jupyter-widgets/base",
      "_model_module_version": "1.2.0",
      "_model_name": "LayoutModel",
      "_view_count": null,
      "_view_module": "@jupyter-widgets/base",
      "_view_module_version": "1.2.0",
      "_view_name": "LayoutView",
      "align_content": null,
      "align_items": null,
      "align_self": null,
      "border": null,
      "bottom": null,
      "display": null,
      "flex": null,
      "flex_flow": null,
      "grid_area": null,
      "grid_auto_columns": null,
      "grid_auto_flow": null,
      "grid_auto_rows": null,
      "grid_column": null,
      "grid_gap": null,
      "grid_row": null,
      "grid_template_areas": null,
      "grid_template_columns": null,
      "grid_template_rows": null,
      "height": null,
      "justify_content": null,
      "justify_items": null,
      "left": null,
      "margin": null,
      "max_height": null,
      "max_width": null,
      "min_height": null,
      "min_width": null,
      "object_fit": null,
      "object_position": null,
      "order": null,
      "overflow": null,
      "overflow_x": null,
      "overflow_y": null,
      "padding": null,
      "right": null,
      "top": null,
      "visibility": null,
      "width": null
     }
    },
    "f84a21abad8b400eaea59cd105cadb6a": {
     "model_module": "@jupyter-widgets/controls",
     "model_module_version": "1.5.0",
     "model_name": "ProgressStyleModel",
     "state": {
      "_model_module": "@jupyter-widgets/controls",
      "_model_module_version": "1.5.0",
      "_model_name": "ProgressStyleModel",
      "_view_count": null,
      "_view_module": "@jupyter-widgets/base",
      "_view_module_version": "1.2.0",
      "_view_name": "StyleView",
      "bar_color": null,
      "description_width": ""
     }
    },
    "f9d02592c92a4d9f92bf5413cc588b15": {
     "model_module": "@jupyter-widgets/controls",
     "model_module_version": "1.5.0",
     "model_name": "DescriptionStyleModel",
     "state": {
      "_model_module": "@jupyter-widgets/controls",
      "_model_module_version": "1.5.0",
      "_model_name": "DescriptionStyleModel",
      "_view_count": null,
      "_view_module": "@jupyter-widgets/base",
      "_view_module_version": "1.2.0",
      "_view_name": "StyleView",
      "description_width": ""
     }
    }
   }
  }
 },
 "nbformat": 4,
 "nbformat_minor": 4
}
